{
 "cells": [
  {
   "cell_type": "code",
   "execution_count": 1,
   "id": "098e800f",
   "metadata": {},
   "outputs": [],
   "source": [
    "import pandas as pd\n",
    "import ast\n",
    "import string\n",
    "from nltk.corpus import stopwords\n",
    "from nltk.stem.porter import PorterStemmer\n",
    "from nltk.tokenize import word_tokenize\n",
    "from sklearn.feature_extraction.text import CountVectorizer,TfidfVectorizer\n",
    "from sklearn.metrics.pairwise import cosine_similarity"
   ]
  },
  {
   "cell_type": "code",
   "execution_count": 2,
   "id": "202a486a",
   "metadata": {},
   "outputs": [],
   "source": [
    "movies = pd.read_csv('Movies 10k.csv')\n",
    "credit = pd.read_csv('Credit 10k.csv')\n",
    "keywords = pd.read_csv('keywords.csv')\n",
    "image = pd.read_csv('image_url.csv')"
   ]
  },
  {
   "cell_type": "code",
   "execution_count": 3,
   "id": "03090578",
   "metadata": {},
   "outputs": [
    {
     "data": {
      "text/html": [
       "<div>\n",
       "<style scoped>\n",
       "    .dataframe tbody tr th:only-of-type {\n",
       "        vertical-align: middle;\n",
       "    }\n",
       "\n",
       "    .dataframe tbody tr th {\n",
       "        vertical-align: top;\n",
       "    }\n",
       "\n",
       "    .dataframe thead th {\n",
       "        text-align: right;\n",
       "    }\n",
       "</style>\n",
       "<table border=\"1\" class=\"dataframe\">\n",
       "  <thead>\n",
       "    <tr style=\"text-align: right;\">\n",
       "      <th></th>\n",
       "      <th>adult</th>\n",
       "      <th>backdrop_path</th>\n",
       "      <th>id</th>\n",
       "      <th>original_language</th>\n",
       "      <th>original_title</th>\n",
       "      <th>overview</th>\n",
       "      <th>popularity</th>\n",
       "      <th>poster_path</th>\n",
       "      <th>release_date</th>\n",
       "      <th>title</th>\n",
       "      <th>video</th>\n",
       "      <th>vote_average</th>\n",
       "      <th>vote_count</th>\n",
       "      <th>genre</th>\n",
       "    </tr>\n",
       "  </thead>\n",
       "  <tbody>\n",
       "    <tr>\n",
       "      <th>0</th>\n",
       "      <td>False</td>\n",
       "      <td>/zo8CIjJ2nfNOevqNajwMRO6Hwka.jpg</td>\n",
       "      <td>1241982</td>\n",
       "      <td>en</td>\n",
       "      <td>Moana 2</td>\n",
       "      <td>After receiving an unexpected call from her wa...</td>\n",
       "      <td>3664.907</td>\n",
       "      <td>/aLVkiINlIeCkcZIzb7XHzPYgO6L.jpg</td>\n",
       "      <td>2024-11-21</td>\n",
       "      <td>Moana 2</td>\n",
       "      <td>False</td>\n",
       "      <td>7.200</td>\n",
       "      <td>1555</td>\n",
       "      <td>['Animation', 'Adventure', 'Family', 'Comedy']</td>\n",
       "    </tr>\n",
       "    <tr>\n",
       "      <th>1</th>\n",
       "      <td>False</td>\n",
       "      <td>/xljLe4TiQL1b4sT7956IGgj2vrf.jpg</td>\n",
       "      <td>927342</td>\n",
       "      <td>ta</td>\n",
       "      <td>அமரன்</td>\n",
       "      <td>A heroic true story of Major Mukund Varadaraja...</td>\n",
       "      <td>2763.388</td>\n",
       "      <td>/6m435uh40N7Gzfbd69ttp6W0sdR.jpg</td>\n",
       "      <td>2024-10-31</td>\n",
       "      <td>Amaran</td>\n",
       "      <td>False</td>\n",
       "      <td>8.113</td>\n",
       "      <td>111</td>\n",
       "      <td>['Action', 'Drama', 'Adventure', 'War']</td>\n",
       "    </tr>\n",
       "  </tbody>\n",
       "</table>\n",
       "</div>"
      ],
      "text/plain": [
       "   adult                     backdrop_path       id original_language  \\\n",
       "0  False  /zo8CIjJ2nfNOevqNajwMRO6Hwka.jpg  1241982                en   \n",
       "1  False  /xljLe4TiQL1b4sT7956IGgj2vrf.jpg   927342                ta   \n",
       "\n",
       "  original_title                                           overview  \\\n",
       "0        Moana 2  After receiving an unexpected call from her wa...   \n",
       "1          அமரன்  A heroic true story of Major Mukund Varadaraja...   \n",
       "\n",
       "   popularity                       poster_path release_date    title  video  \\\n",
       "0    3664.907  /aLVkiINlIeCkcZIzb7XHzPYgO6L.jpg   2024-11-21  Moana 2  False   \n",
       "1    2763.388  /6m435uh40N7Gzfbd69ttp6W0sdR.jpg   2024-10-31   Amaran  False   \n",
       "\n",
       "   vote_average  vote_count                                           genre  \n",
       "0         7.200        1555  ['Animation', 'Adventure', 'Family', 'Comedy']  \n",
       "1         8.113         111         ['Action', 'Drama', 'Adventure', 'War']  "
      ]
     },
     "execution_count": 3,
     "metadata": {},
     "output_type": "execute_result"
    }
   ],
   "source": [
    "movies.head(2)"
   ]
  },
  {
   "cell_type": "code",
   "execution_count": 4,
   "id": "c05ed335",
   "metadata": {},
   "outputs": [],
   "source": [
    "movies= movies[['id','title','overview','genre']]"
   ]
  },
  {
   "cell_type": "code",
   "execution_count": 5,
   "id": "16e749da",
   "metadata": {},
   "outputs": [],
   "source": [
    "df = movies.merge(credit, on = 'id')\n",
    "df = df.merge(keywords, on = 'id')\n",
    "df = df.merge(image, on = 'id')"
   ]
  },
  {
   "cell_type": "code",
   "execution_count": 6,
   "id": "45c93b0e",
   "metadata": {},
   "outputs": [
    {
     "data": {
      "text/html": [
       "<div>\n",
       "<style scoped>\n",
       "    .dataframe tbody tr th:only-of-type {\n",
       "        vertical-align: middle;\n",
       "    }\n",
       "\n",
       "    .dataframe tbody tr th {\n",
       "        vertical-align: top;\n",
       "    }\n",
       "\n",
       "    .dataframe thead th {\n",
       "        text-align: right;\n",
       "    }\n",
       "</style>\n",
       "<table border=\"1\" class=\"dataframe\">\n",
       "  <thead>\n",
       "    <tr style=\"text-align: right;\">\n",
       "      <th></th>\n",
       "      <th>id</th>\n",
       "      <th>title</th>\n",
       "      <th>overview</th>\n",
       "      <th>genre</th>\n",
       "      <th>cast</th>\n",
       "      <th>crew</th>\n",
       "      <th>keywords</th>\n",
       "      <th>image_url</th>\n",
       "    </tr>\n",
       "  </thead>\n",
       "  <tbody>\n",
       "    <tr>\n",
       "      <th>0</th>\n",
       "      <td>1241982</td>\n",
       "      <td>Moana 2</td>\n",
       "      <td>After receiving an unexpected call from her wa...</td>\n",
       "      <td>['Animation', 'Adventure', 'Family', 'Comedy']</td>\n",
       "      <td>[{'adult': False, 'gender': 1, 'id': 1564846, ...</td>\n",
       "      <td>[{'adult': False, 'gender': 2, 'id': 4524084, ...</td>\n",
       "      <td>[{'id': 658, 'name': 'sea'}, {'id': 270, 'name...</td>\n",
       "      <td>http://image.tmdb.org/t/p/w500/aLVkiINlIeCkcZI...</td>\n",
       "    </tr>\n",
       "    <tr>\n",
       "      <th>1</th>\n",
       "      <td>927342</td>\n",
       "      <td>Amaran</td>\n",
       "      <td>A heroic true story of Major Mukund Varadaraja...</td>\n",
       "      <td>['Action', 'Drama', 'Adventure', 'War']</td>\n",
       "      <td>[{'adult': False, 'gender': 2, 'id': 587982, '...</td>\n",
       "      <td>[{'adult': False, 'gender': 2, 'id': 2992426, ...</td>\n",
       "      <td>[{'id': 818, 'name': 'based on novel or book'}...</td>\n",
       "      <td>http://image.tmdb.org/t/p/w500/6m435uh40N7Gzfb...</td>\n",
       "    </tr>\n",
       "  </tbody>\n",
       "</table>\n",
       "</div>"
      ],
      "text/plain": [
       "        id    title                                           overview  \\\n",
       "0  1241982  Moana 2  After receiving an unexpected call from her wa...   \n",
       "1   927342   Amaran  A heroic true story of Major Mukund Varadaraja...   \n",
       "\n",
       "                                            genre  \\\n",
       "0  ['Animation', 'Adventure', 'Family', 'Comedy']   \n",
       "1         ['Action', 'Drama', 'Adventure', 'War']   \n",
       "\n",
       "                                                cast  \\\n",
       "0  [{'adult': False, 'gender': 1, 'id': 1564846, ...   \n",
       "1  [{'adult': False, 'gender': 2, 'id': 587982, '...   \n",
       "\n",
       "                                                crew  \\\n",
       "0  [{'adult': False, 'gender': 2, 'id': 4524084, ...   \n",
       "1  [{'adult': False, 'gender': 2, 'id': 2992426, ...   \n",
       "\n",
       "                                            keywords  \\\n",
       "0  [{'id': 658, 'name': 'sea'}, {'id': 270, 'name...   \n",
       "1  [{'id': 818, 'name': 'based on novel or book'}...   \n",
       "\n",
       "                                           image_url  \n",
       "0  http://image.tmdb.org/t/p/w500/aLVkiINlIeCkcZI...  \n",
       "1  http://image.tmdb.org/t/p/w500/6m435uh40N7Gzfb...  "
      ]
     },
     "execution_count": 6,
     "metadata": {},
     "output_type": "execute_result"
    }
   ],
   "source": [
    "df.head(2)"
   ]
  },
  {
   "cell_type": "code",
   "execution_count": 7,
   "id": "47612564",
   "metadata": {},
   "outputs": [
    {
     "data": {
      "text/plain": [
       "id           0\n",
       "title        0\n",
       "overview     2\n",
       "genre        0\n",
       "cast         0\n",
       "crew         0\n",
       "keywords     0\n",
       "image_url    0\n",
       "dtype: int64"
      ]
     },
     "execution_count": 7,
     "metadata": {},
     "output_type": "execute_result"
    }
   ],
   "source": [
    "df.isnull().sum()"
   ]
  },
  {
   "cell_type": "code",
   "execution_count": 8,
   "id": "7117c1db",
   "metadata": {},
   "outputs": [
    {
     "data": {
      "text/plain": [
       "5894"
      ]
     },
     "execution_count": 8,
     "metadata": {},
     "output_type": "execute_result"
    }
   ],
   "source": [
    "df.dropna(inplace = True)\n",
    "df.duplicated().sum()"
   ]
  },
  {
   "cell_type": "code",
   "execution_count": 9,
   "id": "0d16d019",
   "metadata": {},
   "outputs": [],
   "source": [
    "df.drop_duplicates(inplace = True, keep = 'first')"
   ]
  },
  {
   "cell_type": "code",
   "execution_count": 10,
   "id": "38a5fd1b",
   "metadata": {},
   "outputs": [
    {
     "data": {
      "text/plain": [
       "(8911, 8)"
      ]
     },
     "execution_count": 10,
     "metadata": {},
     "output_type": "execute_result"
    }
   ],
   "source": [
    "df.shape"
   ]
  },
  {
   "cell_type": "code",
   "execution_count": 11,
   "id": "a0e5e325",
   "metadata": {},
   "outputs": [
    {
     "data": {
      "text/html": [
       "<div>\n",
       "<style scoped>\n",
       "    .dataframe tbody tr th:only-of-type {\n",
       "        vertical-align: middle;\n",
       "    }\n",
       "\n",
       "    .dataframe tbody tr th {\n",
       "        vertical-align: top;\n",
       "    }\n",
       "\n",
       "    .dataframe thead th {\n",
       "        text-align: right;\n",
       "    }\n",
       "</style>\n",
       "<table border=\"1\" class=\"dataframe\">\n",
       "  <thead>\n",
       "    <tr style=\"text-align: right;\">\n",
       "      <th></th>\n",
       "      <th>id</th>\n",
       "      <th>title</th>\n",
       "      <th>overview</th>\n",
       "      <th>genre</th>\n",
       "      <th>cast</th>\n",
       "      <th>crew</th>\n",
       "      <th>keywords</th>\n",
       "      <th>image_url</th>\n",
       "    </tr>\n",
       "  </thead>\n",
       "  <tbody>\n",
       "    <tr>\n",
       "      <th>0</th>\n",
       "      <td>1241982</td>\n",
       "      <td>Moana 2</td>\n",
       "      <td>After receiving an unexpected call from her wa...</td>\n",
       "      <td>['Animation', 'Adventure', 'Family', 'Comedy']</td>\n",
       "      <td>[{'adult': False, 'gender': 1, 'id': 1564846, ...</td>\n",
       "      <td>[{'adult': False, 'gender': 2, 'id': 4524084, ...</td>\n",
       "      <td>[{'id': 658, 'name': 'sea'}, {'id': 270, 'name...</td>\n",
       "      <td>http://image.tmdb.org/t/p/w500/aLVkiINlIeCkcZI...</td>\n",
       "    </tr>\n",
       "    <tr>\n",
       "      <th>1</th>\n",
       "      <td>927342</td>\n",
       "      <td>Amaran</td>\n",
       "      <td>A heroic true story of Major Mukund Varadaraja...</td>\n",
       "      <td>['Action', 'Drama', 'Adventure', 'War']</td>\n",
       "      <td>[{'adult': False, 'gender': 2, 'id': 587982, '...</td>\n",
       "      <td>[{'adult': False, 'gender': 2, 'id': 2992426, ...</td>\n",
       "      <td>[{'id': 818, 'name': 'based on novel or book'}...</td>\n",
       "      <td>http://image.tmdb.org/t/p/w500/6m435uh40N7Gzfb...</td>\n",
       "    </tr>\n",
       "  </tbody>\n",
       "</table>\n",
       "</div>"
      ],
      "text/plain": [
       "        id    title                                           overview  \\\n",
       "0  1241982  Moana 2  After receiving an unexpected call from her wa...   \n",
       "1   927342   Amaran  A heroic true story of Major Mukund Varadaraja...   \n",
       "\n",
       "                                            genre  \\\n",
       "0  ['Animation', 'Adventure', 'Family', 'Comedy']   \n",
       "1         ['Action', 'Drama', 'Adventure', 'War']   \n",
       "\n",
       "                                                cast  \\\n",
       "0  [{'adult': False, 'gender': 1, 'id': 1564846, ...   \n",
       "1  [{'adult': False, 'gender': 2, 'id': 587982, '...   \n",
       "\n",
       "                                                crew  \\\n",
       "0  [{'adult': False, 'gender': 2, 'id': 4524084, ...   \n",
       "1  [{'adult': False, 'gender': 2, 'id': 2992426, ...   \n",
       "\n",
       "                                            keywords  \\\n",
       "0  [{'id': 658, 'name': 'sea'}, {'id': 270, 'name...   \n",
       "1  [{'id': 818, 'name': 'based on novel or book'}...   \n",
       "\n",
       "                                           image_url  \n",
       "0  http://image.tmdb.org/t/p/w500/aLVkiINlIeCkcZI...  \n",
       "1  http://image.tmdb.org/t/p/w500/6m435uh40N7Gzfb...  "
      ]
     },
     "execution_count": 11,
     "metadata": {},
     "output_type": "execute_result"
    }
   ],
   "source": [
    "df.head(2)"
   ]
  },
  {
   "cell_type": "code",
   "execution_count": 12,
   "id": "61046414",
   "metadata": {},
   "outputs": [],
   "source": [
    "import ast\n",
    "df['genre'] = df['genre'].apply(ast.literal_eval)"
   ]
  },
  {
   "cell_type": "code",
   "execution_count": 13,
   "id": "4421e123",
   "metadata": {},
   "outputs": [],
   "source": [
    "def cast_name(obj):\n",
    "    name = []\n",
    "    count = 0\n",
    "    for i in ast.literal_eval(obj):\n",
    "        name.append(i['name'])\n",
    "        count +=1\n",
    "        if count ==5:\n",
    "            break\n",
    "    return name\n",
    "\n",
    "df['cast'] = df['cast'].apply(cast_name)"
   ]
  },
  {
   "cell_type": "code",
   "execution_count": 14,
   "id": "ac63ebcf",
   "metadata": {},
   "outputs": [],
   "source": [
    "def director_name(obj):\n",
    "    name = []\n",
    "    for i in ast.literal_eval(obj):\n",
    "        if i['job'] == 'Director':\n",
    "            name.append(i['name'])\n",
    "    return name\n",
    "\n",
    "df['crew'] = df['crew'].apply(director_name)"
   ]
  },
  {
   "cell_type": "code",
   "execution_count": 15,
   "id": "5b9061de",
   "metadata": {},
   "outputs": [],
   "source": [
    "def keyword_name(obj):\n",
    "    name = []\n",
    "    for i in ast.literal_eval(obj):\n",
    "        name.append(i['name'])\n",
    "    return name\n",
    "df['keywords'] = df['keywords'].apply(keyword_name)"
   ]
  },
  {
   "cell_type": "code",
   "execution_count": 16,
   "id": "0997beda",
   "metadata": {},
   "outputs": [
    {
     "data": {
      "text/html": [
       "<div>\n",
       "<style scoped>\n",
       "    .dataframe tbody tr th:only-of-type {\n",
       "        vertical-align: middle;\n",
       "    }\n",
       "\n",
       "    .dataframe tbody tr th {\n",
       "        vertical-align: top;\n",
       "    }\n",
       "\n",
       "    .dataframe thead th {\n",
       "        text-align: right;\n",
       "    }\n",
       "</style>\n",
       "<table border=\"1\" class=\"dataframe\">\n",
       "  <thead>\n",
       "    <tr style=\"text-align: right;\">\n",
       "      <th></th>\n",
       "      <th>id</th>\n",
       "      <th>title</th>\n",
       "      <th>overview</th>\n",
       "      <th>genre</th>\n",
       "      <th>cast</th>\n",
       "      <th>crew</th>\n",
       "      <th>keywords</th>\n",
       "      <th>image_url</th>\n",
       "    </tr>\n",
       "  </thead>\n",
       "  <tbody>\n",
       "    <tr>\n",
       "      <th>0</th>\n",
       "      <td>1241982</td>\n",
       "      <td>Moana 2</td>\n",
       "      <td>After receiving an unexpected call from her wa...</td>\n",
       "      <td>[Animation, Adventure, Family, Comedy]</td>\n",
       "      <td>[Auliʻi Cravalho, Dwayne Johnson, Hualālai Chu...</td>\n",
       "      <td>[David G. Derrick Jr., Jason Hand, Dana Ledoux...</td>\n",
       "      <td>[sea, ocean, villain, musical, sequel, duringc...</td>\n",
       "      <td>http://image.tmdb.org/t/p/w500/aLVkiINlIeCkcZI...</td>\n",
       "    </tr>\n",
       "    <tr>\n",
       "      <th>1</th>\n",
       "      <td>927342</td>\n",
       "      <td>Amaran</td>\n",
       "      <td>A heroic true story of Major Mukund Varadaraja...</td>\n",
       "      <td>[Action, Drama, Adventure, War]</td>\n",
       "      <td>[Sivakarthikeyan, Sai Pallavi, Rahul Bose, Bhu...</td>\n",
       "      <td>[Rajkumar Periasamy]</td>\n",
       "      <td>[based on novel or book, affectation, based on...</td>\n",
       "      <td>http://image.tmdb.org/t/p/w500/6m435uh40N7Gzfb...</td>\n",
       "    </tr>\n",
       "    <tr>\n",
       "      <th>2</th>\n",
       "      <td>822119</td>\n",
       "      <td>Captain America: Brave New World</td>\n",
       "      <td>After meeting with newly elected U.S. Presiden...</td>\n",
       "      <td>[Action, Thriller, Science Fiction]</td>\n",
       "      <td>[Anthony Mackie, Harrison Ford, Danny Ramirez,...</td>\n",
       "      <td>[Julius Onah]</td>\n",
       "      <td>[hero, superhero, revenge, blunt, aftercredits...</td>\n",
       "      <td>http://image.tmdb.org/t/p/w500/pzIddUEMWhWzfvL...</td>\n",
       "    </tr>\n",
       "    <tr>\n",
       "      <th>3</th>\n",
       "      <td>939243</td>\n",
       "      <td>Sonic the Hedgehog 3</td>\n",
       "      <td>Sonic, Knuckles, and Tails reunite against a p...</td>\n",
       "      <td>[Action, Science Fiction, Comedy, Family]</td>\n",
       "      <td>[Jim Carrey, Ben Schwartz, Keanu Reeves, Idris...</td>\n",
       "      <td>[Jeff Fowler]</td>\n",
       "      <td>[moon, sequel, based on video game, burlesque,...</td>\n",
       "      <td>http://image.tmdb.org/t/p/w500/d8Ryb8AunYAuycV...</td>\n",
       "    </tr>\n",
       "    <tr>\n",
       "      <th>4</th>\n",
       "      <td>1160956</td>\n",
       "      <td>Panda Plan</td>\n",
       "      <td>International action star Jackie Chan is invit...</td>\n",
       "      <td>[Action, Comedy]</td>\n",
       "      <td>[Jackie Chan, Shi Ce, Wei Xiang, Han Yanbo, Da...</td>\n",
       "      <td>[Zhang Luan]</td>\n",
       "      <td>[assistant, zoo, panda, superstar, rescue oper...</td>\n",
       "      <td>http://image.tmdb.org/t/p/w500/xVS9XiO9upp2SnW...</td>\n",
       "    </tr>\n",
       "  </tbody>\n",
       "</table>\n",
       "</div>"
      ],
      "text/plain": [
       "        id                             title  \\\n",
       "0  1241982                           Moana 2   \n",
       "1   927342                            Amaran   \n",
       "2   822119  Captain America: Brave New World   \n",
       "3   939243              Sonic the Hedgehog 3   \n",
       "4  1160956                        Panda Plan   \n",
       "\n",
       "                                            overview  \\\n",
       "0  After receiving an unexpected call from her wa...   \n",
       "1  A heroic true story of Major Mukund Varadaraja...   \n",
       "2  After meeting with newly elected U.S. Presiden...   \n",
       "3  Sonic, Knuckles, and Tails reunite against a p...   \n",
       "4  International action star Jackie Chan is invit...   \n",
       "\n",
       "                                       genre  \\\n",
       "0     [Animation, Adventure, Family, Comedy]   \n",
       "1            [Action, Drama, Adventure, War]   \n",
       "2        [Action, Thriller, Science Fiction]   \n",
       "3  [Action, Science Fiction, Comedy, Family]   \n",
       "4                           [Action, Comedy]   \n",
       "\n",
       "                                                cast  \\\n",
       "0  [Auliʻi Cravalho, Dwayne Johnson, Hualālai Chu...   \n",
       "1  [Sivakarthikeyan, Sai Pallavi, Rahul Bose, Bhu...   \n",
       "2  [Anthony Mackie, Harrison Ford, Danny Ramirez,...   \n",
       "3  [Jim Carrey, Ben Schwartz, Keanu Reeves, Idris...   \n",
       "4  [Jackie Chan, Shi Ce, Wei Xiang, Han Yanbo, Da...   \n",
       "\n",
       "                                                crew  \\\n",
       "0  [David G. Derrick Jr., Jason Hand, Dana Ledoux...   \n",
       "1                               [Rajkumar Periasamy]   \n",
       "2                                      [Julius Onah]   \n",
       "3                                      [Jeff Fowler]   \n",
       "4                                       [Zhang Luan]   \n",
       "\n",
       "                                            keywords  \\\n",
       "0  [sea, ocean, villain, musical, sequel, duringc...   \n",
       "1  [based on novel or book, affectation, based on...   \n",
       "2  [hero, superhero, revenge, blunt, aftercredits...   \n",
       "3  [moon, sequel, based on video game, burlesque,...   \n",
       "4  [assistant, zoo, panda, superstar, rescue oper...   \n",
       "\n",
       "                                           image_url  \n",
       "0  http://image.tmdb.org/t/p/w500/aLVkiINlIeCkcZI...  \n",
       "1  http://image.tmdb.org/t/p/w500/6m435uh40N7Gzfb...  \n",
       "2  http://image.tmdb.org/t/p/w500/pzIddUEMWhWzfvL...  \n",
       "3  http://image.tmdb.org/t/p/w500/d8Ryb8AunYAuycV...  \n",
       "4  http://image.tmdb.org/t/p/w500/xVS9XiO9upp2SnW...  "
      ]
     },
     "execution_count": 16,
     "metadata": {},
     "output_type": "execute_result"
    }
   ],
   "source": [
    "df.head()"
   ]
  },
  {
   "cell_type": "code",
   "execution_count": 17,
   "id": "e160eca4",
   "metadata": {},
   "outputs": [],
   "source": [
    "def remove_space(obj):\n",
    "    name = []\n",
    "    for i in obj:\n",
    "        name.append(i.replace(\" \",\"\"))\n",
    "    return \" \".join(name)"
   ]
  },
  {
   "cell_type": "code",
   "execution_count": 18,
   "id": "a84fa4a5",
   "metadata": {},
   "outputs": [],
   "source": [
    "# Text preprocessing\n",
    "punctuations = string.punctuation\n",
    "stop_words = stopwords.words('english')\n",
    "ps = PorterStemmer()\n",
    "\n",
    "def text_preprocessing(text):\n",
    "    text = text.lower()\n",
    "    text = word_tokenize(text)\n",
    "    new_text = []\n",
    "    \n",
    "    for word in text:\n",
    "        if word not in stop_words and word not in punctuations:\n",
    "            new_text.append(word)\n",
    "            \n",
    "    y = []\n",
    "    for word in new_text:\n",
    "        y.append(ps.stem(word))\n",
    "    return \" \".join(y)"
   ]
  },
  {
   "cell_type": "code",
   "execution_count": 19,
   "id": "43d007b9",
   "metadata": {},
   "outputs": [],
   "source": [
    "df['overview'] = df['overview'].apply(text_preprocessing)"
   ]
  },
  {
   "cell_type": "code",
   "execution_count": 20,
   "id": "0e942683",
   "metadata": {},
   "outputs": [],
   "source": [
    "df['genre'] = df['genre'].apply(remove_space)\n",
    "df['cast'] = df['cast'].apply(remove_space)\n",
    "df['crew'] = df['crew'].apply(remove_space)\n",
    "df['keywords'] = df['keywords'].apply(remove_space)"
   ]
  },
  {
   "cell_type": "code",
   "execution_count": 21,
   "id": "b0a9dfcd",
   "metadata": {},
   "outputs": [],
   "source": [
    "df['tags'] = df['overview'] + df['genre'] + df['cast'] + df['crew'] + df['keywords']"
   ]
  },
  {
   "cell_type": "code",
   "execution_count": 22,
   "id": "e733d8db",
   "metadata": {},
   "outputs": [
    {
     "data": {
      "text/html": [
       "<div>\n",
       "<style scoped>\n",
       "    .dataframe tbody tr th:only-of-type {\n",
       "        vertical-align: middle;\n",
       "    }\n",
       "\n",
       "    .dataframe tbody tr th {\n",
       "        vertical-align: top;\n",
       "    }\n",
       "\n",
       "    .dataframe thead th {\n",
       "        text-align: right;\n",
       "    }\n",
       "</style>\n",
       "<table border=\"1\" class=\"dataframe\">\n",
       "  <thead>\n",
       "    <tr style=\"text-align: right;\">\n",
       "      <th></th>\n",
       "      <th>id</th>\n",
       "      <th>title</th>\n",
       "      <th>overview</th>\n",
       "      <th>genre</th>\n",
       "      <th>cast</th>\n",
       "      <th>crew</th>\n",
       "      <th>keywords</th>\n",
       "      <th>image_url</th>\n",
       "      <th>tags</th>\n",
       "    </tr>\n",
       "  </thead>\n",
       "  <tbody>\n",
       "    <tr>\n",
       "      <th>0</th>\n",
       "      <td>1241982</td>\n",
       "      <td>Moana 2</td>\n",
       "      <td>receiv unexpect call wayfind ancestor moana jo...</td>\n",
       "      <td>Animation Adventure Family Comedy</td>\n",
       "      <td>AuliʻiCravalho DwayneJohnson HualālaiChung Ros...</td>\n",
       "      <td>DavidG.DerrickJr. JasonHand DanaLedouxMiller</td>\n",
       "      <td>sea ocean villain musical sequel duringcredits...</td>\n",
       "      <td>http://image.tmdb.org/t/p/w500/aLVkiINlIeCkcZI...</td>\n",
       "      <td>receiv unexpect call wayfind ancestor moana jo...</td>\n",
       "    </tr>\n",
       "    <tr>\n",
       "      <th>1</th>\n",
       "      <td>927342</td>\n",
       "      <td>Amaran</td>\n",
       "      <td>heroic true stori major mukund varadarajan ind...</td>\n",
       "      <td>Action Drama Adventure War</td>\n",
       "      <td>Sivakarthikeyan SaiPallavi RahulBose BhuvanAro...</td>\n",
       "      <td>RajkumarPeriasamy</td>\n",
       "      <td>basedonnovelorbook affectation basedontruestor...</td>\n",
       "      <td>http://image.tmdb.org/t/p/w500/6m435uh40N7Gzfb...</td>\n",
       "      <td>heroic true stori major mukund varadarajan ind...</td>\n",
       "    </tr>\n",
       "    <tr>\n",
       "      <th>2</th>\n",
       "      <td>822119</td>\n",
       "      <td>Captain America: Brave New World</td>\n",
       "      <td>meet newli elect u.s. presid thaddeu ross sam ...</td>\n",
       "      <td>Action Thriller ScienceFiction</td>\n",
       "      <td>AnthonyMackie HarrisonFord DannyRamirez ShiraH...</td>\n",
       "      <td>JuliusOnah</td>\n",
       "      <td>hero superhero revenge blunt aftercreditssting...</td>\n",
       "      <td>http://image.tmdb.org/t/p/w500/pzIddUEMWhWzfvL...</td>\n",
       "      <td>meet newli elect u.s. presid thaddeu ross sam ...</td>\n",
       "    </tr>\n",
       "    <tr>\n",
       "      <th>3</th>\n",
       "      <td>939243</td>\n",
       "      <td>Sonic the Hedgehog 3</td>\n",
       "      <td>sonic knuckl tail reunit power new adversari s...</td>\n",
       "      <td>Action ScienceFiction Comedy Family</td>\n",
       "      <td>JimCarrey BenSchwartz KeanuReeves IdrisElba Co...</td>\n",
       "      <td>JeffFowler</td>\n",
       "      <td>moon sequel basedonvideogame burlesque dualrol...</td>\n",
       "      <td>http://image.tmdb.org/t/p/w500/d8Ryb8AunYAuycV...</td>\n",
       "      <td>sonic knuckl tail reunit power new adversari s...</td>\n",
       "    </tr>\n",
       "    <tr>\n",
       "      <th>4</th>\n",
       "      <td>1160956</td>\n",
       "      <td>Panda Plan</td>\n",
       "      <td>intern action star jacki chan invit adopt cere...</td>\n",
       "      <td>Action Comedy</td>\n",
       "      <td>JackieChan ShiCe WeiXiang HanYanbo DannyRay</td>\n",
       "      <td>ZhangLuan</td>\n",
       "      <td>assistant zoo panda superstar rescueoperation ...</td>\n",
       "      <td>http://image.tmdb.org/t/p/w500/xVS9XiO9upp2SnW...</td>\n",
       "      <td>intern action star jacki chan invit adopt cere...</td>\n",
       "    </tr>\n",
       "  </tbody>\n",
       "</table>\n",
       "</div>"
      ],
      "text/plain": [
       "        id                             title  \\\n",
       "0  1241982                           Moana 2   \n",
       "1   927342                            Amaran   \n",
       "2   822119  Captain America: Brave New World   \n",
       "3   939243              Sonic the Hedgehog 3   \n",
       "4  1160956                        Panda Plan   \n",
       "\n",
       "                                            overview  \\\n",
       "0  receiv unexpect call wayfind ancestor moana jo...   \n",
       "1  heroic true stori major mukund varadarajan ind...   \n",
       "2  meet newli elect u.s. presid thaddeu ross sam ...   \n",
       "3  sonic knuckl tail reunit power new adversari s...   \n",
       "4  intern action star jacki chan invit adopt cere...   \n",
       "\n",
       "                                 genre  \\\n",
       "0    Animation Adventure Family Comedy   \n",
       "1           Action Drama Adventure War   \n",
       "2       Action Thriller ScienceFiction   \n",
       "3  Action ScienceFiction Comedy Family   \n",
       "4                        Action Comedy   \n",
       "\n",
       "                                                cast  \\\n",
       "0  AuliʻiCravalho DwayneJohnson HualālaiChung Ros...   \n",
       "1  Sivakarthikeyan SaiPallavi RahulBose BhuvanAro...   \n",
       "2  AnthonyMackie HarrisonFord DannyRamirez ShiraH...   \n",
       "3  JimCarrey BenSchwartz KeanuReeves IdrisElba Co...   \n",
       "4        JackieChan ShiCe WeiXiang HanYanbo DannyRay   \n",
       "\n",
       "                                           crew  \\\n",
       "0  DavidG.DerrickJr. JasonHand DanaLedouxMiller   \n",
       "1                             RajkumarPeriasamy   \n",
       "2                                    JuliusOnah   \n",
       "3                                    JeffFowler   \n",
       "4                                     ZhangLuan   \n",
       "\n",
       "                                            keywords  \\\n",
       "0  sea ocean villain musical sequel duringcredits...   \n",
       "1  basedonnovelorbook affectation basedontruestor...   \n",
       "2  hero superhero revenge blunt aftercreditssting...   \n",
       "3  moon sequel basedonvideogame burlesque dualrol...   \n",
       "4  assistant zoo panda superstar rescueoperation ...   \n",
       "\n",
       "                                           image_url  \\\n",
       "0  http://image.tmdb.org/t/p/w500/aLVkiINlIeCkcZI...   \n",
       "1  http://image.tmdb.org/t/p/w500/6m435uh40N7Gzfb...   \n",
       "2  http://image.tmdb.org/t/p/w500/pzIddUEMWhWzfvL...   \n",
       "3  http://image.tmdb.org/t/p/w500/d8Ryb8AunYAuycV...   \n",
       "4  http://image.tmdb.org/t/p/w500/xVS9XiO9upp2SnW...   \n",
       "\n",
       "                                                tags  \n",
       "0  receiv unexpect call wayfind ancestor moana jo...  \n",
       "1  heroic true stori major mukund varadarajan ind...  \n",
       "2  meet newli elect u.s. presid thaddeu ross sam ...  \n",
       "3  sonic knuckl tail reunit power new adversari s...  \n",
       "4  intern action star jacki chan invit adopt cere...  "
      ]
     },
     "execution_count": 22,
     "metadata": {},
     "output_type": "execute_result"
    }
   ],
   "source": [
    "df.head()"
   ]
  },
  {
   "cell_type": "code",
   "execution_count": 23,
   "id": "1877dbd5",
   "metadata": {},
   "outputs": [],
   "source": [
    "df2 = df.copy()\n",
    "df2 = df2[['id','title','tags','image_url']]"
   ]
  },
  {
   "cell_type": "code",
   "execution_count": 24,
   "id": "1922f994",
   "metadata": {},
   "outputs": [
    {
     "data": {
      "text/html": [
       "<div>\n",
       "<style scoped>\n",
       "    .dataframe tbody tr th:only-of-type {\n",
       "        vertical-align: middle;\n",
       "    }\n",
       "\n",
       "    .dataframe tbody tr th {\n",
       "        vertical-align: top;\n",
       "    }\n",
       "\n",
       "    .dataframe thead th {\n",
       "        text-align: right;\n",
       "    }\n",
       "</style>\n",
       "<table border=\"1\" class=\"dataframe\">\n",
       "  <thead>\n",
       "    <tr style=\"text-align: right;\">\n",
       "      <th></th>\n",
       "      <th>id</th>\n",
       "      <th>title</th>\n",
       "      <th>tags</th>\n",
       "      <th>image_url</th>\n",
       "    </tr>\n",
       "  </thead>\n",
       "  <tbody>\n",
       "    <tr>\n",
       "      <th>0</th>\n",
       "      <td>1241982</td>\n",
       "      <td>Moana 2</td>\n",
       "      <td>receiv unexpect call wayfind ancestor moana jo...</td>\n",
       "      <td>http://image.tmdb.org/t/p/w500/aLVkiINlIeCkcZI...</td>\n",
       "    </tr>\n",
       "    <tr>\n",
       "      <th>1</th>\n",
       "      <td>927342</td>\n",
       "      <td>Amaran</td>\n",
       "      <td>heroic true stori major mukund varadarajan ind...</td>\n",
       "      <td>http://image.tmdb.org/t/p/w500/6m435uh40N7Gzfb...</td>\n",
       "    </tr>\n",
       "    <tr>\n",
       "      <th>2</th>\n",
       "      <td>822119</td>\n",
       "      <td>Captain America: Brave New World</td>\n",
       "      <td>meet newli elect u.s. presid thaddeu ross sam ...</td>\n",
       "      <td>http://image.tmdb.org/t/p/w500/pzIddUEMWhWzfvL...</td>\n",
       "    </tr>\n",
       "    <tr>\n",
       "      <th>3</th>\n",
       "      <td>939243</td>\n",
       "      <td>Sonic the Hedgehog 3</td>\n",
       "      <td>sonic knuckl tail reunit power new adversari s...</td>\n",
       "      <td>http://image.tmdb.org/t/p/w500/d8Ryb8AunYAuycV...</td>\n",
       "    </tr>\n",
       "    <tr>\n",
       "      <th>4</th>\n",
       "      <td>1160956</td>\n",
       "      <td>Panda Plan</td>\n",
       "      <td>intern action star jacki chan invit adopt cere...</td>\n",
       "      <td>http://image.tmdb.org/t/p/w500/xVS9XiO9upp2SnW...</td>\n",
       "    </tr>\n",
       "    <tr>\n",
       "      <th>...</th>\n",
       "      <td>...</td>\n",
       "      <td>...</td>\n",
       "      <td>...</td>\n",
       "      <td>...</td>\n",
       "    </tr>\n",
       "    <tr>\n",
       "      <th>14802</th>\n",
       "      <td>3111</td>\n",
       "      <td>A Star Is Born</td>\n",
       "      <td>movi star help young singer-actress find fame ...</td>\n",
       "      <td>http://image.tmdb.org/t/p/w500/zpg2SzpYhZk1D1s...</td>\n",
       "    </tr>\n",
       "    <tr>\n",
       "      <th>14803</th>\n",
       "      <td>239562</td>\n",
       "      <td>The Single Moms Club</td>\n",
       "      <td>group singl mom brought togeth aftermath incid...</td>\n",
       "      <td>http://image.tmdb.org/t/p/w500/cKVwaF5RzibSYbK...</td>\n",
       "    </tr>\n",
       "    <tr>\n",
       "      <th>14804</th>\n",
       "      <td>38579</td>\n",
       "      <td>Marmaduke</td>\n",
       "      <td>phil debbi winslow reloc nativ kansa sunni cli...</td>\n",
       "      <td>http://image.tmdb.org/t/p/w500/e1hxniKMiRIpGia...</td>\n",
       "    </tr>\n",
       "    <tr>\n",
       "      <th>14805</th>\n",
       "      <td>9989</td>\n",
       "      <td>Antitrust</td>\n",
       "      <td>comput programm 's dream job hot portland-bas ...</td>\n",
       "      <td>http://image.tmdb.org/t/p/w500/9PXyfcJe53A9qFk...</td>\n",
       "    </tr>\n",
       "    <tr>\n",
       "      <th>14806</th>\n",
       "      <td>9318</td>\n",
       "      <td>Asterix in Britain</td>\n",
       "      <td>one littl ancient british villag still hold ro...</td>\n",
       "      <td>http://image.tmdb.org/t/p/w500/10L5R1l03MqDx36...</td>\n",
       "    </tr>\n",
       "  </tbody>\n",
       "</table>\n",
       "<p>8911 rows × 4 columns</p>\n",
       "</div>"
      ],
      "text/plain": [
       "            id                             title  \\\n",
       "0      1241982                           Moana 2   \n",
       "1       927342                            Amaran   \n",
       "2       822119  Captain America: Brave New World   \n",
       "3       939243              Sonic the Hedgehog 3   \n",
       "4      1160956                        Panda Plan   \n",
       "...        ...                               ...   \n",
       "14802     3111                    A Star Is Born   \n",
       "14803   239562              The Single Moms Club   \n",
       "14804    38579                         Marmaduke   \n",
       "14805     9989                         Antitrust   \n",
       "14806     9318                Asterix in Britain   \n",
       "\n",
       "                                                    tags  \\\n",
       "0      receiv unexpect call wayfind ancestor moana jo...   \n",
       "1      heroic true stori major mukund varadarajan ind...   \n",
       "2      meet newli elect u.s. presid thaddeu ross sam ...   \n",
       "3      sonic knuckl tail reunit power new adversari s...   \n",
       "4      intern action star jacki chan invit adopt cere...   \n",
       "...                                                  ...   \n",
       "14802  movi star help young singer-actress find fame ...   \n",
       "14803  group singl mom brought togeth aftermath incid...   \n",
       "14804  phil debbi winslow reloc nativ kansa sunni cli...   \n",
       "14805  comput programm 's dream job hot portland-bas ...   \n",
       "14806  one littl ancient british villag still hold ro...   \n",
       "\n",
       "                                               image_url  \n",
       "0      http://image.tmdb.org/t/p/w500/aLVkiINlIeCkcZI...  \n",
       "1      http://image.tmdb.org/t/p/w500/6m435uh40N7Gzfb...  \n",
       "2      http://image.tmdb.org/t/p/w500/pzIddUEMWhWzfvL...  \n",
       "3      http://image.tmdb.org/t/p/w500/d8Ryb8AunYAuycV...  \n",
       "4      http://image.tmdb.org/t/p/w500/xVS9XiO9upp2SnW...  \n",
       "...                                                  ...  \n",
       "14802  http://image.tmdb.org/t/p/w500/zpg2SzpYhZk1D1s...  \n",
       "14803  http://image.tmdb.org/t/p/w500/cKVwaF5RzibSYbK...  \n",
       "14804  http://image.tmdb.org/t/p/w500/e1hxniKMiRIpGia...  \n",
       "14805  http://image.tmdb.org/t/p/w500/9PXyfcJe53A9qFk...  \n",
       "14806  http://image.tmdb.org/t/p/w500/10L5R1l03MqDx36...  \n",
       "\n",
       "[8911 rows x 4 columns]"
      ]
     },
     "execution_count": 24,
     "metadata": {},
     "output_type": "execute_result"
    }
   ],
   "source": [
    "df2"
   ]
  },
  {
   "cell_type": "code",
   "execution_count": 25,
   "id": "4a013165",
   "metadata": {},
   "outputs": [],
   "source": [
    "df2.reset_index(inplace = True)"
   ]
  },
  {
   "cell_type": "markdown",
   "id": "a304dc70",
   "metadata": {},
   "source": [
    "# Text Vectorization"
   ]
  },
  {
   "cell_type": "code",
   "execution_count": 106,
   "id": "984ca3ff",
   "metadata": {},
   "outputs": [],
   "source": [
    "cv = CountVectorizer(ngram_range = (1,3), max_features = 5000)\n",
    "tfidf = TfidfVectorizer(ngram_range = (1,3), max_features = 5000)\n",
    "\n",
    "tags_cv = cv.fit_transform(df2['tags']).toarray()\n",
    "tags_tfidf = tfidf.fit_transform(df2['tags']).toarray()"
   ]
  },
  {
   "cell_type": "code",
   "execution_count": 107,
   "id": "b26fe73b",
   "metadata": {},
   "outputs": [
    {
     "data": {
      "text/plain": [
       "((8911, 5000), (8911, 5000))"
      ]
     },
     "execution_count": 107,
     "metadata": {},
     "output_type": "execute_result"
    }
   ],
   "source": [
    "tags_cv.shape, tags_tfidf.shape"
   ]
  },
  {
   "cell_type": "code",
   "execution_count": 108,
   "id": "3adac834",
   "metadata": {},
   "outputs": [],
   "source": [
    "similarity_cv = cosine_similarity(tags_cv)\n",
    "similarity_tfidf = cosine_similarity(tags_tfidf)"
   ]
  },
  {
   "cell_type": "code",
   "execution_count": 109,
   "id": "46bd0075",
   "metadata": {},
   "outputs": [],
   "source": [
    "def recommend_cv(name):\n",
    "    movie_index = df2[df2['title'] == name].index[0]\n",
    "    recommend_movie = sorted(enumerate(similarity_cv[movie_index]),key = (lambda x: x[1]), reverse = True)[:6]\n",
    "    for i in recommend_movie:\n",
    "        print(df2['title'].iloc[i[0]])\n",
    "        print(df2['image_url'].iloc[i[0]])\n",
    "        \n",
    "def recommend_tfidf(name):\n",
    "    movie_index = df2[df2['title'] == name].index[0]\n",
    "    recommend_movie = sorted(enumerate(similarity_cv[movie_index]),key = (lambda x: x[1]), reverse = True)[:6]\n",
    "    for i in recommend_movie:\n",
    "        print(df2['title'].iloc[i[0]])\n",
    "        print(df2['image_url'].iloc[i[0]])\n",
    "        "
   ]
  },
  {
   "cell_type": "code",
   "execution_count": 110,
   "id": "cb015ae8",
   "metadata": {
    "scrolled": false
   },
   "outputs": [
    {
     "name": "stdout",
     "output_type": "stream",
     "text": [
      "Harry Potter and the Philosopher's Stone\n",
      "http://image.tmdb.org/t/p/w500/wuMc08IPKEatf9rnMNXvIDxqP4W.jpg\n",
      "Harry Potter and the Deathly Hallows: Part 2\n",
      "http://image.tmdb.org/t/p/w500/c54HpQmuwXjHq2C9wmoACjxoom3.jpg\n",
      "Harry Potter and the Prisoner of Azkaban\n",
      "http://image.tmdb.org/t/p/w500/aWxwnYoe8p2d2fcxOqtvAtJ72Rw.jpg\n",
      "Harry Potter and the Goblet of Fire\n",
      "http://image.tmdb.org/t/p/w500/fECBtHlr0RB3foNHDiCBXeg9Bv9.jpg\n",
      "Harry Potter and the Deathly Hallows: Part 1\n",
      "http://image.tmdb.org/t/p/w500/iGoXIpQb7Pot00EEdwpwPajheZ5.jpg\n",
      "Harry Potter and the Half-Blood Prince\n",
      "http://image.tmdb.org/t/p/w500/z7uo9zmQdQwU5ZJHFpv2Upl30i1.jpg\n"
     ]
    }
   ],
   "source": [
    "recommend_cv('Harry Potter and the Philosopher\\'s Stone')"
   ]
  },
  {
   "cell_type": "code",
   "execution_count": 111,
   "id": "1fa90ada",
   "metadata": {
    "scrolled": true
   },
   "outputs": [
    {
     "name": "stdout",
     "output_type": "stream",
     "text": [
      "Harry Potter and the Philosopher's Stone\n",
      "http://image.tmdb.org/t/p/w500/wuMc08IPKEatf9rnMNXvIDxqP4W.jpg\n",
      "Harry Potter and the Deathly Hallows: Part 2\n",
      "http://image.tmdb.org/t/p/w500/c54HpQmuwXjHq2C9wmoACjxoom3.jpg\n",
      "Harry Potter and the Prisoner of Azkaban\n",
      "http://image.tmdb.org/t/p/w500/aWxwnYoe8p2d2fcxOqtvAtJ72Rw.jpg\n",
      "Harry Potter and the Goblet of Fire\n",
      "http://image.tmdb.org/t/p/w500/fECBtHlr0RB3foNHDiCBXeg9Bv9.jpg\n",
      "Harry Potter and the Deathly Hallows: Part 1\n",
      "http://image.tmdb.org/t/p/w500/iGoXIpQb7Pot00EEdwpwPajheZ5.jpg\n",
      "Harry Potter and the Half-Blood Prince\n",
      "http://image.tmdb.org/t/p/w500/z7uo9zmQdQwU5ZJHFpv2Upl30i1.jpg\n"
     ]
    }
   ],
   "source": [
    "recommend_tfidf('Harry Potter and the Philosopher\\'s Stone')"
   ]
  },
  {
   "cell_type": "code",
   "execution_count": 105,
   "id": "a325eeed",
   "metadata": {
    "scrolled": true
   },
   "outputs": [
    {
     "name": "stdout",
     "output_type": "stream",
     "text": [
      "Matilda\n",
      "http://image.tmdb.org/t/p/w500/wYoDpWInsBEVSmWStnRH06ddoyk.jpg\n",
      "Harry Potter and the Philosopher's Stone\n",
      "http://image.tmdb.org/t/p/w500/wuMc08IPKEatf9rnMNXvIDxqP4W.jpg\n",
      "Lesson Plan\n",
      "http://image.tmdb.org/t/p/w500/wawP3mOUeRBrAtnbPwWK5eFaMdV.jpg\n",
      "Easy A\n",
      "http://image.tmdb.org/t/p/w500/v5f1qO6NJnxWgONgkYg21TW39DT.jpg\n",
      "Mean Girls 2\n",
      "http://image.tmdb.org/t/p/w500/34zKHT98ZgSCz6ag1ZNBul7f1Wu.jpg\n",
      "Sugar Baby\n",
      "http://image.tmdb.org/t/p/w500/g9MaTZCsGGXjqF87I8XiFHp8Kby.jpg\n"
     ]
    }
   ],
   "source": [
    "recommend_cv('Matilda')"
   ]
  },
  {
   "cell_type": "code",
   "execution_count": 51,
   "id": "e8e4c4b9",
   "metadata": {},
   "outputs": [
    {
     "data": {
      "text/plain": [
       "index                                                      297\n",
       "id                                                         424\n",
       "title                                         Schindler's List\n",
       "tags         true stori businessman oskar schindler save th...\n",
       "image_url    http://image.tmdb.org/t/p/w500/sF1U4EUQS8YHUYj...\n",
       "Name: 222, dtype: object"
      ]
     },
     "execution_count": 51,
     "metadata": {},
     "output_type": "execute_result"
    }
   ],
   "source": [
    "df2.iloc[222]"
   ]
  },
  {
   "cell_type": "code",
   "execution_count": 62,
   "id": "80e32c78",
   "metadata": {},
   "outputs": [
    {
     "name": "stdout",
     "output_type": "stream",
     "text": [
      "Schindler's List\n",
      "http://image.tmdb.org/t/p/w500/sF1U4EUQS8YHUYjNl3pMGNIQyr0.jpg\n",
      "The Pianist\n",
      "http://image.tmdb.org/t/p/w500/2hFvxCCWrTmCYwfy7yum0GKRi3Y.jpg\n",
      "The Photographer of Mauthausen\n",
      "http://image.tmdb.org/t/p/w500/6b4L0uLVgFsDfqPx0sFZbCRwIKH.jpg\n",
      "Defiance\n",
      "http://image.tmdb.org/t/p/w500/z6yNHcQOveRuAohuejdDFQDEBSs.jpg\n",
      "The Zookeeper's Wife\n",
      "http://image.tmdb.org/t/p/w500/5TVBtMhwOldZW82g1Ka11IE86wC.jpg\n",
      "Lee\n",
      "http://image.tmdb.org/t/p/w500/ffw51hmecHHdTWihncJZgmp9XH2.jpg\n"
     ]
    }
   ],
   "source": [
    "recommend_cv('Schindler\\'s List')"
   ]
  },
  {
   "cell_type": "code",
   "execution_count": 112,
   "id": "75b8fdde",
   "metadata": {},
   "outputs": [],
   "source": [
    "# df2.drop(columns = 'index', inplace = True)\n",
    "import pickle\n",
    "pickle.dump(similarity_cv,open('similarity.pkl','wb'))\n",
    "# pickle.dump(df2,open('Movies Dataset.pkl','wb'))"
   ]
  },
  {
   "cell_type": "code",
   "execution_count": null,
   "id": "74c85220",
   "metadata": {},
   "outputs": [],
   "source": []
  },
  {
   "cell_type": "code",
   "execution_count": 97,
   "id": "6a5d0900",
   "metadata": {},
   "outputs": [
    {
     "data": {
      "text/html": [
       "<div>\n",
       "<style scoped>\n",
       "    .dataframe tbody tr th:only-of-type {\n",
       "        vertical-align: middle;\n",
       "    }\n",
       "\n",
       "    .dataframe tbody tr th {\n",
       "        vertical-align: top;\n",
       "    }\n",
       "\n",
       "    .dataframe thead th {\n",
       "        text-align: right;\n",
       "    }\n",
       "</style>\n",
       "<table border=\"1\" class=\"dataframe\">\n",
       "  <thead>\n",
       "    <tr style=\"text-align: right;\">\n",
       "      <th></th>\n",
       "      <th>id</th>\n",
       "      <th>title</th>\n",
       "      <th>tags</th>\n",
       "      <th>image_url</th>\n",
       "    </tr>\n",
       "  </thead>\n",
       "  <tbody>\n",
       "    <tr>\n",
       "      <th>6937</th>\n",
       "      <td>2309</td>\n",
       "      <td>Inkheart</td>\n",
       "      <td>adventur father young daughter search long los...</td>\n",
       "      <td>http://image.tmdb.org/t/p/w500/pNTJVwXZZzXv5C2...</td>\n",
       "    </tr>\n",
       "  </tbody>\n",
       "</table>\n",
       "</div>"
      ],
      "text/plain": [
       "        id     title                                               tags  \\\n",
       "6937  2309  Inkheart  adventur father young daughter search long los...   \n",
       "\n",
       "                                              image_url  \n",
       "6937  http://image.tmdb.org/t/p/w500/pNTJVwXZZzXv5C2...  "
      ]
     },
     "execution_count": 97,
     "metadata": {},
     "output_type": "execute_result"
    }
   ],
   "source": [
    "df2[df2['title'] == 'Inkheart']"
   ]
  },
  {
   "cell_type": "code",
   "execution_count": 98,
   "id": "0cb454ec",
   "metadata": {},
   "outputs": [
    {
     "data": {
      "text/html": [
       "<div>\n",
       "<style scoped>\n",
       "    .dataframe tbody tr th:only-of-type {\n",
       "        vertical-align: middle;\n",
       "    }\n",
       "\n",
       "    .dataframe tbody tr th {\n",
       "        vertical-align: top;\n",
       "    }\n",
       "\n",
       "    .dataframe thead th {\n",
       "        text-align: right;\n",
       "    }\n",
       "</style>\n",
       "<table border=\"1\" class=\"dataframe\">\n",
       "  <thead>\n",
       "    <tr style=\"text-align: right;\">\n",
       "      <th></th>\n",
       "      <th>id</th>\n",
       "      <th>image_url</th>\n",
       "    </tr>\n",
       "  </thead>\n",
       "  <tbody>\n",
       "  </tbody>\n",
       "</table>\n",
       "</div>"
      ],
      "text/plain": [
       "Empty DataFrame\n",
       "Columns: [id, image_url]\n",
       "Index: []"
      ]
     },
     "execution_count": 98,
     "metadata": {},
     "output_type": "execute_result"
    }
   ],
   "source": [
    "image[image['id'] == 6937]"
   ]
  },
  {
   "cell_type": "code",
   "execution_count": null,
   "id": "a3a42644",
   "metadata": {},
   "outputs": [],
   "source": []
  }
 ],
 "metadata": {
  "kernelspec": {
   "display_name": "Python 3 (ipykernel)",
   "language": "python",
   "name": "python3"
  },
  "language_info": {
   "codemirror_mode": {
    "name": "ipython",
    "version": 3
   },
   "file_extension": ".py",
   "mimetype": "text/x-python",
   "name": "python",
   "nbconvert_exporter": "python",
   "pygments_lexer": "ipython3",
   "version": "3.11.5"
  }
 },
 "nbformat": 4,
 "nbformat_minor": 5
}
