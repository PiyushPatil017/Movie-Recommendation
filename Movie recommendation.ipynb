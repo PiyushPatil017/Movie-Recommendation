{
 "cells": [
  {
   "cell_type": "code",
   "execution_count": 47,
   "id": "098e800f",
   "metadata": {},
   "outputs": [],
   "source": [
    "# Import necessary libraries\n",
    "\n",
    "import pandas as pd\n",
    "import ast\n",
    "import string\n",
    "import pickle\n",
    "\n",
    "from nltk.corpus import stopwords\n",
    "from nltk.stem.porter import PorterStemmer\n",
    "from nltk.tokenize import word_tokenize\n",
    "from sklearn.feature_extraction.text import CountVectorizer,TfidfVectorizer\n",
    "from sklearn.metrics.pairwise import cosine_similarity"
   ]
  },
  {
   "cell_type": "code",
   "execution_count": 48,
   "id": "202a486a",
   "metadata": {},
   "outputs": [],
   "source": [
    "# Import csv files\n",
    "\n",
    "movies = pd.read_csv('Movies 10k.csv')\n",
    "credit = pd.read_csv('Credit 10k.csv')\n",
    "keywords = pd.read_csv('keywords.csv')\n",
    "image = pd.read_csv('image_url.csv')"
   ]
  },
  {
   "cell_type": "code",
   "execution_count": 49,
   "id": "71ecc507",
   "metadata": {},
   "outputs": [
    {
     "data": {
      "text/plain": [
       "((10000, 14), (10000, 3), (10000, 2), (9180, 2))"
      ]
     },
     "execution_count": 49,
     "metadata": {},
     "output_type": "execute_result"
    }
   ],
   "source": [
    "movies.shape,credit.shape, keywords.shape, image.shape"
   ]
  },
  {
   "cell_type": "code",
   "execution_count": 39,
   "id": "03090578",
   "metadata": {},
   "outputs": [
    {
     "data": {
      "text/html": [
       "<div>\n",
       "<style scoped>\n",
       "    .dataframe tbody tr th:only-of-type {\n",
       "        vertical-align: middle;\n",
       "    }\n",
       "\n",
       "    .dataframe tbody tr th {\n",
       "        vertical-align: top;\n",
       "    }\n",
       "\n",
       "    .dataframe thead th {\n",
       "        text-align: right;\n",
       "    }\n",
       "</style>\n",
       "<table border=\"1\" class=\"dataframe\">\n",
       "  <thead>\n",
       "    <tr style=\"text-align: right;\">\n",
       "      <th></th>\n",
       "      <th>adult</th>\n",
       "      <th>backdrop_path</th>\n",
       "      <th>id</th>\n",
       "      <th>original_language</th>\n",
       "      <th>original_title</th>\n",
       "      <th>overview</th>\n",
       "      <th>popularity</th>\n",
       "      <th>poster_path</th>\n",
       "      <th>release_date</th>\n",
       "      <th>title</th>\n",
       "      <th>video</th>\n",
       "      <th>vote_average</th>\n",
       "      <th>vote_count</th>\n",
       "      <th>genre</th>\n",
       "    </tr>\n",
       "  </thead>\n",
       "  <tbody>\n",
       "    <tr>\n",
       "      <th>0</th>\n",
       "      <td>False</td>\n",
       "      <td>/cVh8Af7a9JMOJl75ML3Dg2QVEuq.jpg</td>\n",
       "      <td>762509</td>\n",
       "      <td>en</td>\n",
       "      <td>Mufasa: The Lion King</td>\n",
       "      <td>Mufasa, a cub lost and alone, meets a sympathe...</td>\n",
       "      <td>3353.171</td>\n",
       "      <td>/9bXHaLlsFYpJUutg4E6WXAjaxDi.jpg</td>\n",
       "      <td>2024-12-18</td>\n",
       "      <td>Mufasa: The Lion King</td>\n",
       "      <td>False</td>\n",
       "      <td>7.462</td>\n",
       "      <td>1178</td>\n",
       "      <td>['Adventure', 'Family', 'Animation']</td>\n",
       "    </tr>\n",
       "    <tr>\n",
       "      <th>1</th>\n",
       "      <td>False</td>\n",
       "      <td>/zo8CIjJ2nfNOevqNajwMRO6Hwka.jpg</td>\n",
       "      <td>1241982</td>\n",
       "      <td>en</td>\n",
       "      <td>Moana 2</td>\n",
       "      <td>After receiving an unexpected call from her wa...</td>\n",
       "      <td>2296.395</td>\n",
       "      <td>/aLVkiINlIeCkcZIzb7XHzPYgO6L.jpg</td>\n",
       "      <td>2024-11-21</td>\n",
       "      <td>Moana 2</td>\n",
       "      <td>False</td>\n",
       "      <td>7.200</td>\n",
       "      <td>1605</td>\n",
       "      <td>['Animation', 'Adventure', 'Family', 'Comedy']</td>\n",
       "    </tr>\n",
       "  </tbody>\n",
       "</table>\n",
       "</div>"
      ],
      "text/plain": [
       "   adult                     backdrop_path       id original_language  \\\n",
       "0  False  /cVh8Af7a9JMOJl75ML3Dg2QVEuq.jpg   762509                en   \n",
       "1  False  /zo8CIjJ2nfNOevqNajwMRO6Hwka.jpg  1241982                en   \n",
       "\n",
       "          original_title                                           overview  \\\n",
       "0  Mufasa: The Lion King  Mufasa, a cub lost and alone, meets a sympathe...   \n",
       "1                Moana 2  After receiving an unexpected call from her wa...   \n",
       "\n",
       "   popularity                       poster_path release_date  \\\n",
       "0    3353.171  /9bXHaLlsFYpJUutg4E6WXAjaxDi.jpg   2024-12-18   \n",
       "1    2296.395  /aLVkiINlIeCkcZIzb7XHzPYgO6L.jpg   2024-11-21   \n",
       "\n",
       "                   title  video  vote_average  vote_count  \\\n",
       "0  Mufasa: The Lion King  False         7.462        1178   \n",
       "1                Moana 2  False         7.200        1605   \n",
       "\n",
       "                                            genre  \n",
       "0            ['Adventure', 'Family', 'Animation']  \n",
       "1  ['Animation', 'Adventure', 'Family', 'Comedy']  "
      ]
     },
     "execution_count": 39,
     "metadata": {},
     "output_type": "execute_result"
    }
   ],
   "source": [
    "movies.head(2)"
   ]
  },
  {
   "cell_type": "code",
   "execution_count": 50,
   "id": "c05ed335",
   "metadata": {},
   "outputs": [],
   "source": [
    "movies= movies[['id','title','overview','genre']]"
   ]
  },
  {
   "cell_type": "code",
   "execution_count": 70,
   "id": "e1bc11f0",
   "metadata": {},
   "outputs": [
    {
     "data": {
      "text/plain": [
       "(8472, 4)"
      ]
     },
     "execution_count": 70,
     "metadata": {},
     "output_type": "execute_result"
    }
   ],
   "source": [
    "movies.shape"
   ]
  },
  {
   "cell_type": "code",
   "execution_count": 64,
   "id": "27182299",
   "metadata": {},
   "outputs": [],
   "source": [
    "movies.duplicated().sum()\n",
    "movies.drop_duplicates(inplace = True)"
   ]
  },
  {
   "cell_type": "code",
   "execution_count": 72,
   "id": "16e749da",
   "metadata": {},
   "outputs": [],
   "source": [
    "# merge all the csv files into one dataframe\n",
    "df = movies.merge(credit, on = 'id')\n",
    "df = df.merge(keywords, on = 'id')\n",
    "df = df.merge(image, on = 'id')"
   ]
  },
  {
   "cell_type": "code",
   "execution_count": 73,
   "id": "fbaad417",
   "metadata": {},
   "outputs": [
    {
     "data": {
      "text/plain": [
       "(18002, 8)"
      ]
     },
     "execution_count": 73,
     "metadata": {},
     "output_type": "execute_result"
    }
   ],
   "source": [
    "df.shape"
   ]
  },
  {
   "cell_type": "code",
   "execution_count": 74,
   "id": "45c93b0e",
   "metadata": {},
   "outputs": [
    {
     "data": {
      "text/html": [
       "<div>\n",
       "<style scoped>\n",
       "    .dataframe tbody tr th:only-of-type {\n",
       "        vertical-align: middle;\n",
       "    }\n",
       "\n",
       "    .dataframe tbody tr th {\n",
       "        vertical-align: top;\n",
       "    }\n",
       "\n",
       "    .dataframe thead th {\n",
       "        text-align: right;\n",
       "    }\n",
       "</style>\n",
       "<table border=\"1\" class=\"dataframe\">\n",
       "  <thead>\n",
       "    <tr style=\"text-align: right;\">\n",
       "      <th></th>\n",
       "      <th>id</th>\n",
       "      <th>title</th>\n",
       "      <th>overview</th>\n",
       "      <th>genre</th>\n",
       "      <th>cast</th>\n",
       "      <th>crew</th>\n",
       "      <th>keywords</th>\n",
       "      <th>image_url</th>\n",
       "    </tr>\n",
       "  </thead>\n",
       "  <tbody>\n",
       "    <tr>\n",
       "      <th>0</th>\n",
       "      <td>762509</td>\n",
       "      <td>Mufasa: The Lion King</td>\n",
       "      <td>Mufasa, a cub lost and alone, meets a sympathe...</td>\n",
       "      <td>['Adventure', 'Family', 'Animation']</td>\n",
       "      <td>[{'adult': False, 'gender': 2, 'id': 1763709, ...</td>\n",
       "      <td>[{'adult': False, 'gender': 2, 'id': 42265, 'k...</td>\n",
       "      <td>[{'id': 6054, 'name': 'friendship'}, {'id': 43...</td>\n",
       "      <td>http://image.tmdb.org/t/p/w500/9bXHaLlsFYpJUut...</td>\n",
       "    </tr>\n",
       "    <tr>\n",
       "      <th>1</th>\n",
       "      <td>1241982</td>\n",
       "      <td>Moana 2</td>\n",
       "      <td>After receiving an unexpected call from her wa...</td>\n",
       "      <td>['Animation', 'Adventure', 'Family', 'Comedy']</td>\n",
       "      <td>[{'adult': False, 'gender': 1, 'id': 1564846, ...</td>\n",
       "      <td>[{'adult': False, 'gender': 2, 'id': 4524084, ...</td>\n",
       "      <td>[{'id': 658, 'name': 'sea'}, {'id': 270, 'name...</td>\n",
       "      <td>http://image.tmdb.org/t/p/w500/aLVkiINlIeCkcZI...</td>\n",
       "    </tr>\n",
       "  </tbody>\n",
       "</table>\n",
       "</div>"
      ],
      "text/plain": [
       "        id                  title  \\\n",
       "0   762509  Mufasa: The Lion King   \n",
       "1  1241982                Moana 2   \n",
       "\n",
       "                                            overview  \\\n",
       "0  Mufasa, a cub lost and alone, meets a sympathe...   \n",
       "1  After receiving an unexpected call from her wa...   \n",
       "\n",
       "                                            genre  \\\n",
       "0            ['Adventure', 'Family', 'Animation']   \n",
       "1  ['Animation', 'Adventure', 'Family', 'Comedy']   \n",
       "\n",
       "                                                cast  \\\n",
       "0  [{'adult': False, 'gender': 2, 'id': 1763709, ...   \n",
       "1  [{'adult': False, 'gender': 1, 'id': 1564846, ...   \n",
       "\n",
       "                                                crew  \\\n",
       "0  [{'adult': False, 'gender': 2, 'id': 42265, 'k...   \n",
       "1  [{'adult': False, 'gender': 2, 'id': 4524084, ...   \n",
       "\n",
       "                                            keywords  \\\n",
       "0  [{'id': 6054, 'name': 'friendship'}, {'id': 43...   \n",
       "1  [{'id': 658, 'name': 'sea'}, {'id': 270, 'name...   \n",
       "\n",
       "                                           image_url  \n",
       "0  http://image.tmdb.org/t/p/w500/9bXHaLlsFYpJUut...  \n",
       "1  http://image.tmdb.org/t/p/w500/aLVkiINlIeCkcZI...  "
      ]
     },
     "execution_count": 74,
     "metadata": {},
     "output_type": "execute_result"
    }
   ],
   "source": [
    "df.head(2)"
   ]
  },
  {
   "cell_type": "code",
   "execution_count": 75,
   "id": "47612564",
   "metadata": {},
   "outputs": [
    {
     "name": "stdout",
     "output_type": "stream",
     "text": [
      "id            0\n",
      "title         0\n",
      "overview     16\n",
      "genre         0\n",
      "cast          0\n",
      "crew          0\n",
      "keywords      0\n",
      "image_url     0\n",
      "dtype: int64\n",
      "\n",
      "\n",
      "10206\n"
     ]
    }
   ],
   "source": [
    "# check for null values and then dropping rows with null values\n",
    "print(df.isnull().sum())\n",
    "df.dropna(inplace = True)\n",
    "print('\\n')\n",
    "# drop duplicate data while keeping the only original data\n",
    "print(df.duplicated().sum())\n",
    "df.drop_duplicates(inplace = True, keep = 'first')\n"
   ]
  },
  {
   "cell_type": "code",
   "execution_count": 76,
   "id": "38a5fd1b",
   "metadata": {},
   "outputs": [
    {
     "data": {
      "text/plain": [
       "(7780, 8)"
      ]
     },
     "execution_count": 76,
     "metadata": {},
     "output_type": "execute_result"
    }
   ],
   "source": [
    "df.shape"
   ]
  },
  {
   "cell_type": "code",
   "execution_count": 77,
   "id": "a0e5e325",
   "metadata": {},
   "outputs": [
    {
     "data": {
      "text/html": [
       "<div>\n",
       "<style scoped>\n",
       "    .dataframe tbody tr th:only-of-type {\n",
       "        vertical-align: middle;\n",
       "    }\n",
       "\n",
       "    .dataframe tbody tr th {\n",
       "        vertical-align: top;\n",
       "    }\n",
       "\n",
       "    .dataframe thead th {\n",
       "        text-align: right;\n",
       "    }\n",
       "</style>\n",
       "<table border=\"1\" class=\"dataframe\">\n",
       "  <thead>\n",
       "    <tr style=\"text-align: right;\">\n",
       "      <th></th>\n",
       "      <th>id</th>\n",
       "      <th>title</th>\n",
       "      <th>overview</th>\n",
       "      <th>genre</th>\n",
       "      <th>cast</th>\n",
       "      <th>crew</th>\n",
       "      <th>keywords</th>\n",
       "      <th>image_url</th>\n",
       "    </tr>\n",
       "  </thead>\n",
       "  <tbody>\n",
       "    <tr>\n",
       "      <th>0</th>\n",
       "      <td>762509</td>\n",
       "      <td>Mufasa: The Lion King</td>\n",
       "      <td>Mufasa, a cub lost and alone, meets a sympathe...</td>\n",
       "      <td>['Adventure', 'Family', 'Animation']</td>\n",
       "      <td>[{'adult': False, 'gender': 2, 'id': 1763709, ...</td>\n",
       "      <td>[{'adult': False, 'gender': 2, 'id': 42265, 'k...</td>\n",
       "      <td>[{'id': 6054, 'name': 'friendship'}, {'id': 43...</td>\n",
       "      <td>http://image.tmdb.org/t/p/w500/9bXHaLlsFYpJUut...</td>\n",
       "    </tr>\n",
       "    <tr>\n",
       "      <th>1</th>\n",
       "      <td>1241982</td>\n",
       "      <td>Moana 2</td>\n",
       "      <td>After receiving an unexpected call from her wa...</td>\n",
       "      <td>['Animation', 'Adventure', 'Family', 'Comedy']</td>\n",
       "      <td>[{'adult': False, 'gender': 1, 'id': 1564846, ...</td>\n",
       "      <td>[{'adult': False, 'gender': 2, 'id': 4524084, ...</td>\n",
       "      <td>[{'id': 658, 'name': 'sea'}, {'id': 270, 'name...</td>\n",
       "      <td>http://image.tmdb.org/t/p/w500/aLVkiINlIeCkcZI...</td>\n",
       "    </tr>\n",
       "  </tbody>\n",
       "</table>\n",
       "</div>"
      ],
      "text/plain": [
       "        id                  title  \\\n",
       "0   762509  Mufasa: The Lion King   \n",
       "1  1241982                Moana 2   \n",
       "\n",
       "                                            overview  \\\n",
       "0  Mufasa, a cub lost and alone, meets a sympathe...   \n",
       "1  After receiving an unexpected call from her wa...   \n",
       "\n",
       "                                            genre  \\\n",
       "0            ['Adventure', 'Family', 'Animation']   \n",
       "1  ['Animation', 'Adventure', 'Family', 'Comedy']   \n",
       "\n",
       "                                                cast  \\\n",
       "0  [{'adult': False, 'gender': 2, 'id': 1763709, ...   \n",
       "1  [{'adult': False, 'gender': 1, 'id': 1564846, ...   \n",
       "\n",
       "                                                crew  \\\n",
       "0  [{'adult': False, 'gender': 2, 'id': 42265, 'k...   \n",
       "1  [{'adult': False, 'gender': 2, 'id': 4524084, ...   \n",
       "\n",
       "                                            keywords  \\\n",
       "0  [{'id': 6054, 'name': 'friendship'}, {'id': 43...   \n",
       "1  [{'id': 658, 'name': 'sea'}, {'id': 270, 'name...   \n",
       "\n",
       "                                           image_url  \n",
       "0  http://image.tmdb.org/t/p/w500/9bXHaLlsFYpJUut...  \n",
       "1  http://image.tmdb.org/t/p/w500/aLVkiINlIeCkcZI...  "
      ]
     },
     "execution_count": 77,
     "metadata": {},
     "output_type": "execute_result"
    }
   ],
   "source": [
    "df.head(2)"
   ]
  },
  {
   "cell_type": "code",
   "execution_count": 78,
   "id": "7fc91308",
   "metadata": {},
   "outputs": [
    {
     "data": {
      "text/plain": [
       "str"
      ]
     },
     "execution_count": 78,
     "metadata": {},
     "output_type": "execute_result"
    }
   ],
   "source": [
    "type(df['genre'].iloc[0])"
   ]
  },
  {
   "cell_type": "code",
   "execution_count": 79,
   "id": "61046414",
   "metadata": {},
   "outputs": [],
   "source": [
    "# since df['genre'] has data as str so to evaluate them we use ast.literal_eval\n",
    "import ast\n",
    "df['genre'] = df['genre'].apply(ast.literal_eval)"
   ]
  },
  {
   "cell_type": "code",
   "execution_count": 80,
   "id": "2efbba88",
   "metadata": {
    "scrolled": true
   },
   "outputs": [
    {
     "data": {
      "text/plain": [
       "\"[{'adult': False, 'gender': 2, 'id': 1763709, 'known_for_department': 'Acting', 'name': 'Aaron Pierre', 'original_name': 'Aaron Pierre', 'popularity': 61.94, 'profile_path': '/hNwZWdT2KxKj1YLbipvtUhNjfAp.jpg', 'cast_id': 73, 'character': 'Mufasa (voice)', 'credit_id': '6784ce60bd793c03544ec5ff', 'order': 0}, {'adult': False, 'gender': 2, 'id': 1344361, 'known_for_department': 'Acting', 'name': 'Kelvin Harrison Jr.', 'original_name': 'Kelvin Harrison Jr.', 'popularity': 14.917, 'profile_path': '/6kpDyaZzmSbqCNYuXZUfeMwS1bq.jpg', 'cast_id': 13, 'character': 'Taka (voice)', 'credit_id': '61290ee48d1b8e00274ef40e', 'order': 1}, {'adult': False, 'gender': 1, 'id': 1074676, 'known_for_department': 'Acting', 'name': 'Tiffany Boone', 'original_name': 'Tiffany Boone', 'popularity': 3.738, 'profile_path': '/9LwqRFdSzxVtnutDUg98YLq0bSz.jpg', 'cast_id': 33, 'character': 'Sarabi (voice)', 'credit_id': '662fc6c9072166012a6a405f', 'order': 2}, {'adult': False, 'gender': 2, 'id': 107529, 'known_for_department': 'Acting', 'name': 'Kagiso Lediga', 'original_name': 'Kagiso Lediga', 'popularity': 5.818, 'profile_path': '/nfqx3CqFVsAMelk6ry560SuN7Y0.jpg', 'cast_id': 34, 'character': 'Young Rafiki (voice)', 'credit_id': '662fc70151c01f012a59e903', 'order': 3}, {'adult': False, 'gender': 2, 'id': 1251835, 'known_for_department': 'Acting', 'name': 'Preston Nyman', 'original_name': 'Preston Nyman', 'popularity': 9.391, 'profile_path': '/eidKvLDCRw68tG3CN6fGhvHUnW.jpg', 'cast_id': 35, 'character': 'Zazu (voice)', 'credit_id': '662fc717c3aa3f0129fdf9e4', 'order': 4}, {'adult': False, 'gender': 1, 'id': 1680929, 'known_for_department': 'Acting', 'name': 'Blue Ivy Carter', 'original_name': 'Blue Ivy Carter', 'popularity': 6.758, 'profile_path': '/mnaFedkdW9TFCkky7fiiT5dfXye.jpg', 'cast_id': 17, 'character': 'Kiara (voice)', 'credit_id': '662f966f07216601276a24cd', 'order': 5}, {'adult': False, 'gender': 2, 'id': 51878, 'known_for_department': 'Acting', 'name': 'John Kani', 'original_name': 'John Kani', 'popularity': 11.122, 'profile_path': '/g7tqg3q128a5O2qXMCwVnXsow9I.jpg', 'cast_id': 19, 'character': 'Rafiki (voice)', 'credit_id': '662f97201f0275012c14d656', 'order': 6}, {'adult': False, 'gender': 2, 'id': 1019, 'known_for_department': 'Acting', 'name': 'Mads Mikkelsen', 'original_name': 'Mads Mikkelsen', 'popularity': 42.935, 'profile_path': '/ntwPvV4GKGGHO3I7LcHMwhXfsw9.jpg', 'cast_id': 18, 'character': 'Kiros (voice)', 'credit_id': '662f96797d5db501233ea048', 'order': 7}, {'adult': False, 'gender': 2, 'id': 19274, 'known_for_department': 'Acting', 'name': 'Seth Rogen', 'original_name': 'Seth Rogen', 'popularity': 16.453, 'profile_path': '/2dPFskUtoiG0xafsSEGl9Oz4teA.jpg', 'cast_id': 16, 'character': 'Pumbaa (voice)', 'credit_id': '631bcd2539549a007b72db26', 'order': 8}, {'adult': False, 'gender': 2, 'id': 973651, 'known_for_department': 'Acting', 'name': 'Billy Eichner', 'original_name': 'Billy Eichner', 'popularity': 8.533, 'profile_path': '/kScO4moqNlDbyCTZuIoBqyaml4l.jpg', 'cast_id': 15, 'character': 'Timon (voice)', 'credit_id': '631bcd1ed399e60084857855', 'order': 9}, {'adult': False, 'gender': 1, 'id': 9030, 'known_for_department': 'Acting', 'name': 'Thandiwe Newton', 'original_name': 'Thandiwe Newton', 'popularity': 17.592, 'profile_path': '/hZQLvxj7nV7pBrRyWTvWVz1CDi8.jpg', 'cast_id': 21, 'character': 'Eshe (voice)', 'credit_id': '662f97315a78840124c22356', 'order': 10}, {'adult': False, 'gender': 2, 'id': 1120, 'known_for_department': 'Acting', 'name': 'Lennie James', 'original_name': 'Lennie James', 'popularity': 9.15, 'profile_path': '/hfZrdEkBHxYYbMoGHAaVomlgMi.jpg', 'cast_id': 36, 'character': 'Obasi (voice)', 'credit_id': '662fc737511d090124c59620', 'order': 11}, {'adult': False, 'gender': 1, 'id': 15563, 'known_for_department': 'Acting', 'name': 'Anika Noni Rose', 'original_name': 'Anika Noni Rose', 'popularity': 6.496, 'profile_path': '/pzzgiBk8v50FN3kbJJUmQiRPrEO.jpg', 'cast_id': 31, 'character': 'Afia (voice)', 'credit_id': '662fc66da806730128e97a97', 'order': 12}, {'adult': False, 'gender': 2, 'id': 65827, 'known_for_department': 'Acting', 'name': 'Keith David', 'original_name': 'Keith David', 'popularity': 17.169, 'profile_path': '/jJLJuR7FNHYL1fB5igjj7IXzOel.jpg', 'cast_id': 32, 'character': 'Masego (voice)', 'credit_id': '662fc694072166012a6a404c', 'order': 13}, {'adult': False, 'gender': 2, 'id': 3023201, 'known_for_department': 'Acting', 'name': 'Braelyn Rankins', 'original_name': 'Braelyn Rankins', 'popularity': 2.125, 'profile_path': '/iiu6HOfpieGzk2gXd5JfUtKnNrH.jpg', 'cast_id': 50, 'character': 'Mufasa Cub (voice)', 'credit_id': '673ff51c32a9aaf43d9675c3', 'order': 14}, {'adult': False, 'gender': 2, 'id': 4683002, 'known_for_department': 'Acting', 'name': 'Theo Somolu', 'original_name': 'Theo Somolu', 'popularity': 0.001, 'profile_path': '/gKAER6rgRfm2qmr6Rj7DDWDAEtn.jpg', 'cast_id': 51, 'character': 'Taka Cub (voice)', 'credit_id': '673ff52e8b4e4c2ef6f77b47', 'order': 15}, {'adult': False, 'gender': 2, 'id': 119589, 'known_for_department': 'Acting', 'name': 'Donald Glover', 'original_name': 'Donald Glover', 'popularity': 9.605, 'profile_path': '/9uS8bu5Jwnc5R3CKDNZ14EzIUs2.jpg', 'cast_id': 20, 'character': 'Simba (voice)', 'credit_id': '662f972b1f0275012414cf68', 'order': 16}, {'adult': False, 'gender': 1, 'id': 14386, 'known_for_department': 'Acting', 'name': 'Beyoncé', 'original_name': 'Beyoncé', 'popularity': 16.198, 'profile_path': '/9MgDCYBBVBl4lM1DuxNIIbCHlKy.jpg', 'cast_id': 22, 'character': 'Nala (voice)', 'credit_id': '662f9769a199a6012b72eea2', 'order': 17}, {'adult': False, 'gender': 1, 'id': 1454313, 'known_for_department': 'Acting', 'name': 'Folake Olowofoyeku', 'original_name': 'Folake Olowofoyeku', 'popularity': 4.832, 'profile_path': '/9wKHnDBZuzRbZ6O5is2C1DfBHQG.jpg', 'cast_id': 52, 'character': 'Amara (voice)', 'credit_id': '673ff544dae2e6a9382551b2', 'order': 18}, {'adult': False, 'gender': 1, 'id': 3071892, 'known_for_department': 'Acting', 'name': 'Joanna Jones', 'original_name': 'Joanna Jones', 'popularity': 0.577, 'profile_path': '/cUACIEiutsjUL1ztAP0zqxmEB1B.jpg', 'cast_id': 53, 'character': 'Akua (voice)', 'credit_id': '673ff555dd53fa0060331c57', 'order': 19}, {'adult': False, 'gender': 1, 'id': 2286339, 'known_for_department': 'Acting', 'name': 'Thuso Mbedu', 'original_name': 'Thuso Mbedu', 'popularity': 4.665, 'profile_path': '/pAStLwNMw8Seb0BM4uqrdOvtjK1.jpg', 'cast_id': 54, 'character': 'Junia (voice)', 'credit_id': '673ff566d7bee5585c559cbb', 'order': 20}, {'adult': False, 'gender': 1, 'id': 1851642, 'known_for_department': 'Acting', 'name': 'Sheila Atim', 'original_name': 'Sheila Atim', 'popularity': 3.222, 'profile_path': '/esAjvG2IXvzQODNEHVCVsc4WALI.jpg', 'cast_id': 55, 'character': 'Ajarry (voice)', 'credit_id': '673ff5761cd8c243e6be5d6f', 'order': 21}, {'adult': False, 'gender': 2, 'id': 58431, 'known_for_department': 'Acting', 'name': 'Abdul Salis', 'original_name': 'Abdul Salis', 'popularity': 2.765, 'profile_path': '/2gDH3kNzUr4IUZLbCiYR9OCTjGa.jpg', 'cast_id': 56, 'character': 'Chigaru (voice)', 'credit_id': '673ff584f0f2ed8f9851c61e', 'order': 22}, {'adult': False, 'gender': 1, 'id': 95200, 'known_for_department': 'Acting', 'name': 'Dominique Jennings', 'original_name': 'Dominique Jennings', 'popularity': 1.805, 'profile_path': '/gQvFevYR8dyH0TTOnOAV8tOMSEO.jpg', 'cast_id': 57, 'character': 'Sarafi (voice)', 'credit_id': '673ff593d7bee5585c559cd6', 'order': 23}, {'adult': False, 'gender': 2, 'id': 1862430, 'known_for_department': 'Acting', 'name': 'Derrick L. McMillon', 'original_name': 'Derrick L. McMillon', 'popularity': 0.564, 'profile_path': '/xYp02xs3ynwg86NkDQebXN3npSG.jpg', 'cast_id': 58, 'character': 'Mosi (voice)', 'credit_id': '6755ca8e2378497675756fd9', 'order': 24}, {'adult': False, 'gender': 2, 'id': 1224603, 'known_for_department': 'Acting', 'name': 'Maestro Harrell', 'original_name': 'Maestro Harrell', 'popularity': 3.651, 'profile_path': '/7cD4uixyLp8vq5MD0SB7dqLHtAs.jpg', 'cast_id': 59, 'character': 'Inaki (voice)', 'credit_id': '6755ca9d0564b1ea9b6eceb5', 'order': 25}, {'adult': False, 'gender': 2, 'id': 4209979, 'known_for_department': 'Acting', 'name': 'AJ Beckles', 'original_name': 'AJ Beckles', 'popularity': 4.593, 'profile_path': '/gSFgVJnm71MffjyAOk4MyYVc8Yy.jpg', 'cast_id': 60, 'character': 'Azibo (voice)', 'credit_id': '6755caaf6f37f6e89adc5d2d', 'order': 26}, {'adult': False, 'gender': 2, 'id': 71078, 'known_for_department': 'Acting', 'name': 'David S. Lee', 'original_name': 'David S. Lee', 'popularity': 9.205, 'profile_path': '/Je5btH3d4hREmOH7sHusD0J7ky.jpg', 'cast_id': 61, 'character': 'Mobo (voice)', 'credit_id': '6755cabd2378497675756ff2', 'order': 27}, {'adult': False, 'gender': 1, 'id': 3661561, 'known_for_department': 'Acting', 'name': 'Brielle Rankins', 'original_name': 'Brielle Rankins', 'popularity': 0.001, 'profile_path': '/hcsmnAnnKJkVKETEQdkV52d30HY.jpg', 'cast_id': 62, 'character': 'Mufasa Cub additional lines (voice)', 'credit_id': '6755cae066c89f44182bfe17', 'order': 28}, {'adult': False, 'gender': 2, 'id': 15152, 'known_for_department': 'Acting', 'name': 'James Earl Jones', 'original_name': 'James Earl Jones', 'popularity': 25.118, 'profile_path': '/oqMPIsXrl9SZkRfIKN08eFROmH6.jpg', 'cast_id': 74, 'character': 'Mufasa (Archive Voice)', 'credit_id': '6786deb0bd3955b2467afc71', 'order': 29}]\""
      ]
     },
     "execution_count": 80,
     "metadata": {},
     "output_type": "execute_result"
    }
   ],
   "source": [
    "df['cast'].iloc[0]"
   ]
  },
  {
   "cell_type": "code",
   "execution_count": 81,
   "id": "4421e123",
   "metadata": {},
   "outputs": [],
   "source": [
    "# extract top 5 Actors/Actress from the movie\n",
    "def cast_name(obj):\n",
    "    name = []\n",
    "    count = 0\n",
    "    for i in ast.literal_eval(obj):\n",
    "        name.append(i['name'])\n",
    "        count +=1\n",
    "        if count ==5:\n",
    "            break\n",
    "    return name\n",
    "\n",
    "df['cast'] = df['cast'].apply(cast_name)"
   ]
  },
  {
   "cell_type": "code",
   "execution_count": 82,
   "id": "d408f0e7",
   "metadata": {
    "scrolled": true
   },
   "outputs": [
    {
     "data": {
      "text/plain": [
       "\"[{'adult': False, 'gender': 2, 'id': 42265, 'known_for_department': 'Production', 'name': 'Peter M. Tobyansen', 'original_name': 'Peter M. Tobyansen', 'popularity': 2.439, 'profile_path': None, 'credit_id': '605670771bf266002887f1e9', 'department': 'Production', 'job': 'Executive Producer'}, {'adult': False, 'gender': 1, 'id': 1681304, 'known_for_department': 'Editing', 'name': 'Joi McMillon', 'original_name': 'Joi McMillon', 'popularity': 0.119, 'profile_path': '/wdg9gRjHUQlBoyXILnQvfEOjl7b.jpg', 'credit_id': '605670a46f6a99003f35c9ee', 'department': 'Editing', 'job': 'Editor'}, {'adult': False, 'gender': 2, 'id': 5670, 'known_for_department': 'Art', 'name': 'Mark Friedberg', 'original_name': 'Mark Friedberg', 'popularity': 3.362, 'profile_path': '/3vs2xBKrXlXmkZEHBdhb0R5eeSJ.jpg', 'credit_id': '626847db924ce600504c771c', 'department': 'Art', 'job': 'Production Design'}, {'adult': False, 'gender': 2, 'id': 1179651, 'known_for_department': 'Acting', 'name': 'Lin-Manuel Miranda', 'original_name': 'Lin-Manuel Miranda', 'popularity': 8.855, 'profile_path': '/r0wFwPa041pZ1QM66yJWuQXCkqx.jpg', 'credit_id': '662f97cb0792e101267b36b7', 'department': 'Sound', 'job': 'Songs'}, {'adult': False, 'gender': 2, 'id': 2689, 'known_for_department': 'Writing', 'name': 'Jeff Nathanson', 'original_name': 'Jeff Nathanson', 'popularity': 7.255, 'profile_path': '/38g0OMsqGcGppAGM6BIep7ZbdPc.jpg', 'credit_id': '662f9a587d5db501263e979f', 'department': 'Writing', 'job': 'Screenplay'}, {'adult': False, 'gender': 2, 'id': 3247563, 'known_for_department': 'Acting', 'name': 'Lebo M.', 'original_name': 'Lebo M.', 'popularity': 0.088, 'profile_path': '/iqsXzHBbu2fsxgkk4VR0DGaiDAR.jpg', 'credit_id': '662fe24966751d0127841bab', 'department': 'Crew', 'job': 'Additional Music'}, {'adult': False, 'gender': 1, 'id': 85960, 'known_for_department': 'Sound', 'name': 'Paula Fairfield', 'original_name': 'Paula Fairfield', 'popularity': 1.035, 'profile_path': '/rKXrhz7Pg21YPNhzng241FTtb6e.jpg', 'credit_id': '662ff2f3713ea6012b695ba5', 'department': 'Sound', 'job': 'Sound Designer'}, {'adult': False, 'gender': 2, 'id': 92784, 'known_for_department': 'Directing', 'name': 'Barry Jenkins', 'original_name': 'Barry Jenkins', 'popularity': 6.808, 'profile_path': '/6nld5eQwiJmuLmyesk4EUeCaoo3.jpg', 'credit_id': '5fa9c38b1b7294003b96e62b', 'department': 'Directing', 'job': 'Director'}, {'adult': False, 'gender': 0, 'id': 2411897, 'known_for_department': 'Production', 'name': 'Mark Ceryak', 'original_name': 'Mark Ceryak', 'popularity': 0.784, 'profile_path': '/3XuRWog48q0e9mcXlOzq0HgxIDs.jpg', 'credit_id': '5fa9c40f519bbb003f55d749', 'department': 'Production', 'job': 'Producer'}, {'adult': False, 'gender': 1, 'id': 969845, 'known_for_department': 'Production', 'name': 'Adele Romanski', 'original_name': 'Adele Romanski', 'popularity': 0.534, 'profile_path': '/7albgSdV3st5kof9W1gbDtP2xBn.jpg', 'credit_id': '5fa9c41b211ce5003b87ba9a', 'department': 'Production', 'job': 'Producer'}, {'adult': False, 'gender': 2, 'id': 960350, 'known_for_department': 'Camera', 'name': 'James Laxton', 'original_name': 'James Laxton', 'popularity': 0.778, 'profile_path': '/wD83C5pD7eHdfULlS6pFlWnRs4O.jpg', 'credit_id': '5fd91e1c3344c6003db09e35', 'department': 'Camera', 'job': 'Director of Photography'}, {'adult': False, 'gender': 2, 'id': 15152, 'known_for_department': 'Acting', 'name': 'James Earl Jones', 'original_name': 'James Earl Jones', 'popularity': 25.118, 'profile_path': '/oqMPIsXrl9SZkRfIKN08eFROmH6.jpg', 'credit_id': '66f32d4d04dc8229f6cee06d', 'department': 'Crew', 'job': 'In Memory Of'}, {'adult': False, 'gender': 2, 'id': 61974, 'known_for_department': 'Sound', 'name': 'Dave Metzger', 'original_name': 'Dave Metzger', 'popularity': 1.137, 'profile_path': '/gfjnhloiQUilQNElVc39F9dCnmB.jpg', 'credit_id': '66f733408aae2a5e7d920d35', 'department': 'Sound', 'job': 'Original Music Composer'}, {'adult': False, 'gender': 2, 'id': 931976, 'known_for_department': 'Sound', 'name': 'Onnalee Blank', 'original_name': 'Onnalee Blank', 'popularity': 1.327, 'profile_path': None, 'credit_id': '671ec9b19ff681d9e0a48585', 'department': 'Sound', 'job': 'Supervising Sound Editor'}, {'adult': False, 'gender': 1, 'id': 56041, 'known_for_department': 'Writing', 'name': 'Irene Mecchi', 'original_name': 'Irene Mecchi', 'popularity': 3.08, 'profile_path': '/qvr0TCXL8XxC2ivChfq7DssuDGs.jpg', 'credit_id': '67574731d7b16434a89f7b62', 'department': 'Crew', 'job': 'Thanks'}, {'adult': False, 'gender': 2, 'id': 7933, 'known_for_department': 'Writing', 'name': 'Jonathan Roberts', 'original_name': 'Jonathan Roberts', 'popularity': 2.145, 'profile_path': None, 'credit_id': '6757473ea18cb8695afd98a6', 'department': 'Crew', 'job': 'Thanks'}, {'adult': False, 'gender': 1, 'id': 38792, 'known_for_department': 'Writing', 'name': 'Linda Woolverton', 'original_name': 'Linda Woolverton', 'popularity': 3.991, 'profile_path': '/AagHXmW37oiLSCsUYIifAaFfkz.jpg', 'credit_id': '6757474aa18cb8695afd98ad', 'department': 'Crew', 'job': 'Thanks'}, {'adult': False, 'gender': 2, 'id': 3247563, 'known_for_department': 'Acting', 'name': 'Lebo M.', 'original_name': 'Lebo M.', 'popularity': 0.088, 'profile_path': '/iqsXzHBbu2fsxgkk4VR0DGaiDAR.jpg', 'credit_id': '6757477a8b2cc2788b11ef70', 'department': 'Sound', 'job': 'Vocals'}, {'adult': False, 'gender': 1, 'id': 6410, 'known_for_department': 'Production', 'name': 'Francine Maisler', 'original_name': 'Francine Maisler', 'popularity': 4.636, 'profile_path': '/5pOiu0SLr3XCB3a8SDwQ70KHINq.jpg', 'credit_id': '6761e0695f8a89d232d34982', 'department': 'Production', 'job': 'Casting'}, {'adult': False, 'gender': 0, 'id': 1729089, 'known_for_department': 'Art', 'name': 'Jared Patrick Gerbig', 'original_name': 'Jared Patrick Gerbig', 'popularity': 0.838, 'profile_path': None, 'credit_id': '6761e1cb0bd51ce3ead3475e', 'department': 'Art', 'job': 'Art Direction'}, {'adult': False, 'gender': 2, 'id': 11508, 'known_for_department': 'Art', 'name': 'Dan Webster', 'original_name': 'Dan Webster', 'popularity': 3.548, 'profile_path': None, 'credit_id': '6761e347432d6c7cb3fb3fed', 'department': 'Art', 'job': 'Supervising Art Director'}, {'adult': False, 'gender': 2, 'id': 3687, 'known_for_department': 'Sound', 'name': 'Harry Cohen', 'original_name': 'Harry Cohen', 'popularity': 2.486, 'profile_path': '/pXDkgsdiMfmChkHpSvVIqYYAdFj.jpg', 'credit_id': '6761e4e87cb01f573d254ea1', 'department': 'Sound', 'job': 'Sound Designer'}, {'adult': False, 'gender': 2, 'id': 9419, 'known_for_department': 'Sound', 'name': 'Benjamin L. Cook', 'original_name': 'Benjamin L. Cook', 'popularity': 1.557, 'profile_path': None, 'credit_id': '6761e5e88dbe1f029f254fef', 'department': 'Sound', 'job': 'Sound Editor'}, {'adult': False, 'gender': 2, 'id': 1049272, 'known_for_department': 'Visual Effects', 'name': 'Adam Valdez', 'original_name': 'Adam Valdez', 'popularity': 0.4, 'profile_path': None, 'credit_id': '6761e6321166a27098d34706', 'department': 'Visual Effects', 'job': 'Visual Effects Supervisor'}, {'adult': False, 'gender': 0, 'id': 1715141, 'known_for_department': 'Visual Effects', 'name': 'Audrey Ferrara', 'original_name': 'Audrey Ferrara', 'popularity': 0.001, 'profile_path': None, 'credit_id': '6797c0ca9ca029099c2b1a74', 'department': 'Visual Effects', 'job': 'Visual Effects Supervisor'}]\""
      ]
     },
     "execution_count": 82,
     "metadata": {},
     "output_type": "execute_result"
    }
   ],
   "source": [
    "df['crew'].iloc[0]"
   ]
  },
  {
   "cell_type": "code",
   "execution_count": 83,
   "id": "ac63ebcf",
   "metadata": {},
   "outputs": [],
   "source": [
    "# Extracting director name of the movie\n",
    "def director_name(obj):\n",
    "    name = []\n",
    "    for i in ast.literal_eval(obj):\n",
    "        if i['job'] == 'Director':\n",
    "            name.append(i['name'])\n",
    "    return name\n",
    "\n",
    "df['crew'] = df['crew'].apply(director_name)"
   ]
  },
  {
   "cell_type": "code",
   "execution_count": 84,
   "id": "a2969eba",
   "metadata": {},
   "outputs": [
    {
     "data": {
      "text/plain": [
       "\"[{'id': 6054, 'name': 'friendship'}, {'id': 439, 'name': 'paradise'}, {'id': 2043, 'name': 'lion'}, {'id': 4344, 'name': 'musical'}, {'id': 9675, 'name': 'prequel'}, {'id': 10787, 'name': 'jungle'}, {'id': 171826, 'name': 'told in flashback'}, {'id': 171854, 'name': 'betrayal by friend'}, {'id': 177973, 'name': 'chance meeting'}, {'id': 245230, 'name': 'live action remake'}, {'id': 248927, 'name': 'found family'}, {'id': 262419, 'name': 'lost'}, {'id': 325778, 'name': 'bold'}, {'id': 325824, 'name': 'hopeful'}]\""
      ]
     },
     "execution_count": 84,
     "metadata": {},
     "output_type": "execute_result"
    }
   ],
   "source": [
    "df['keywords'].iloc[0]"
   ]
  },
  {
   "cell_type": "code",
   "execution_count": 85,
   "id": "5b9061de",
   "metadata": {},
   "outputs": [],
   "source": [
    "# Extract main keywords of the movie\n",
    "def keyword_name(obj):\n",
    "    name = []\n",
    "    for i in ast.literal_eval(obj):\n",
    "        name.append(i['name'])\n",
    "    return name\n",
    "df['keywords'] = df['keywords'].apply(keyword_name)"
   ]
  },
  {
   "cell_type": "code",
   "execution_count": 86,
   "id": "0997beda",
   "metadata": {},
   "outputs": [
    {
     "data": {
      "text/html": [
       "<div>\n",
       "<style scoped>\n",
       "    .dataframe tbody tr th:only-of-type {\n",
       "        vertical-align: middle;\n",
       "    }\n",
       "\n",
       "    .dataframe tbody tr th {\n",
       "        vertical-align: top;\n",
       "    }\n",
       "\n",
       "    .dataframe thead th {\n",
       "        text-align: right;\n",
       "    }\n",
       "</style>\n",
       "<table border=\"1\" class=\"dataframe\">\n",
       "  <thead>\n",
       "    <tr style=\"text-align: right;\">\n",
       "      <th></th>\n",
       "      <th>id</th>\n",
       "      <th>title</th>\n",
       "      <th>overview</th>\n",
       "      <th>genre</th>\n",
       "      <th>cast</th>\n",
       "      <th>crew</th>\n",
       "      <th>keywords</th>\n",
       "      <th>image_url</th>\n",
       "    </tr>\n",
       "  </thead>\n",
       "  <tbody>\n",
       "    <tr>\n",
       "      <th>0</th>\n",
       "      <td>762509</td>\n",
       "      <td>Mufasa: The Lion King</td>\n",
       "      <td>Mufasa, a cub lost and alone, meets a sympathe...</td>\n",
       "      <td>[Adventure, Family, Animation]</td>\n",
       "      <td>[Aaron Pierre, Kelvin Harrison Jr., Tiffany Bo...</td>\n",
       "      <td>[Barry Jenkins]</td>\n",
       "      <td>[friendship, paradise, lion, musical, prequel,...</td>\n",
       "      <td>http://image.tmdb.org/t/p/w500/9bXHaLlsFYpJUut...</td>\n",
       "    </tr>\n",
       "    <tr>\n",
       "      <th>1</th>\n",
       "      <td>1241982</td>\n",
       "      <td>Moana 2</td>\n",
       "      <td>After receiving an unexpected call from her wa...</td>\n",
       "      <td>[Animation, Adventure, Family, Comedy]</td>\n",
       "      <td>[Auliʻi Cravalho, Dwayne Johnson, Hualālai Chu...</td>\n",
       "      <td>[David G. Derrick Jr., Jason Hand, Dana Ledoux...</td>\n",
       "      <td>[sea, ocean, villain, musical, sequel, duringc...</td>\n",
       "      <td>http://image.tmdb.org/t/p/w500/aLVkiINlIeCkcZI...</td>\n",
       "    </tr>\n",
       "    <tr>\n",
       "      <th>2</th>\n",
       "      <td>939243</td>\n",
       "      <td>Sonic the Hedgehog 3</td>\n",
       "      <td>Sonic, Knuckles, and Tails reunite against a p...</td>\n",
       "      <td>[Action, Science Fiction, Comedy, Family]</td>\n",
       "      <td>[Jim Carrey, Ben Schwartz, Keanu Reeves, Idris...</td>\n",
       "      <td>[Jeff Fowler]</td>\n",
       "      <td>[moon, sequel, based on video game, burlesque,...</td>\n",
       "      <td>http://image.tmdb.org/t/p/w500/d8Ryb8AunYAuycV...</td>\n",
       "    </tr>\n",
       "    <tr>\n",
       "      <th>3</th>\n",
       "      <td>927342</td>\n",
       "      <td>Amaran</td>\n",
       "      <td>A heroic true story of Major Mukund Varadaraja...</td>\n",
       "      <td>[Action, Drama, Adventure, War]</td>\n",
       "      <td>[Sivakarthikeyan, Sai Pallavi, Rahul Bose, Bhu...</td>\n",
       "      <td>[Rajkumar Periasamy]</td>\n",
       "      <td>[based on novel or book, affectation, based on...</td>\n",
       "      <td>http://image.tmdb.org/t/p/w500/gnsLzt6RdI4QINt...</td>\n",
       "    </tr>\n",
       "    <tr>\n",
       "      <th>4</th>\n",
       "      <td>822119</td>\n",
       "      <td>Captain America: Brave New World</td>\n",
       "      <td>After meeting with newly elected U.S. Presiden...</td>\n",
       "      <td>[Action, Thriller, Science Fiction]</td>\n",
       "      <td>[Anthony Mackie, Harrison Ford, Danny Ramirez,...</td>\n",
       "      <td>[Julius Onah]</td>\n",
       "      <td>[hero, superhero, revenge, aftercreditsstinger...</td>\n",
       "      <td>http://image.tmdb.org/t/p/w500/pzIddUEMWhWzfvL...</td>\n",
       "    </tr>\n",
       "  </tbody>\n",
       "</table>\n",
       "</div>"
      ],
      "text/plain": [
       "        id                             title  \\\n",
       "0   762509             Mufasa: The Lion King   \n",
       "1  1241982                           Moana 2   \n",
       "2   939243              Sonic the Hedgehog 3   \n",
       "3   927342                            Amaran   \n",
       "4   822119  Captain America: Brave New World   \n",
       "\n",
       "                                            overview  \\\n",
       "0  Mufasa, a cub lost and alone, meets a sympathe...   \n",
       "1  After receiving an unexpected call from her wa...   \n",
       "2  Sonic, Knuckles, and Tails reunite against a p...   \n",
       "3  A heroic true story of Major Mukund Varadaraja...   \n",
       "4  After meeting with newly elected U.S. Presiden...   \n",
       "\n",
       "                                       genre  \\\n",
       "0             [Adventure, Family, Animation]   \n",
       "1     [Animation, Adventure, Family, Comedy]   \n",
       "2  [Action, Science Fiction, Comedy, Family]   \n",
       "3            [Action, Drama, Adventure, War]   \n",
       "4        [Action, Thriller, Science Fiction]   \n",
       "\n",
       "                                                cast  \\\n",
       "0  [Aaron Pierre, Kelvin Harrison Jr., Tiffany Bo...   \n",
       "1  [Auliʻi Cravalho, Dwayne Johnson, Hualālai Chu...   \n",
       "2  [Jim Carrey, Ben Schwartz, Keanu Reeves, Idris...   \n",
       "3  [Sivakarthikeyan, Sai Pallavi, Rahul Bose, Bhu...   \n",
       "4  [Anthony Mackie, Harrison Ford, Danny Ramirez,...   \n",
       "\n",
       "                                                crew  \\\n",
       "0                                    [Barry Jenkins]   \n",
       "1  [David G. Derrick Jr., Jason Hand, Dana Ledoux...   \n",
       "2                                      [Jeff Fowler]   \n",
       "3                               [Rajkumar Periasamy]   \n",
       "4                                      [Julius Onah]   \n",
       "\n",
       "                                            keywords  \\\n",
       "0  [friendship, paradise, lion, musical, prequel,...   \n",
       "1  [sea, ocean, villain, musical, sequel, duringc...   \n",
       "2  [moon, sequel, based on video game, burlesque,...   \n",
       "3  [based on novel or book, affectation, based on...   \n",
       "4  [hero, superhero, revenge, aftercreditsstinger...   \n",
       "\n",
       "                                           image_url  \n",
       "0  http://image.tmdb.org/t/p/w500/9bXHaLlsFYpJUut...  \n",
       "1  http://image.tmdb.org/t/p/w500/aLVkiINlIeCkcZI...  \n",
       "2  http://image.tmdb.org/t/p/w500/d8Ryb8AunYAuycV...  \n",
       "3  http://image.tmdb.org/t/p/w500/gnsLzt6RdI4QINt...  \n",
       "4  http://image.tmdb.org/t/p/w500/pzIddUEMWhWzfvL...  "
      ]
     },
     "execution_count": 86,
     "metadata": {},
     "output_type": "execute_result"
    }
   ],
   "source": [
    "df.head()"
   ]
  },
  {
   "cell_type": "code",
   "execution_count": 87,
   "id": "a84fa4a5",
   "metadata": {},
   "outputs": [],
   "source": [
    "# Text preprocessing\n",
    "punctuations = string.punctuation\n",
    "stop_words = stopwords.words('english')\n",
    "ps = PorterStemmer()\n",
    "\n",
    "def text_preprocessing(text):\n",
    "    text = text.lower()\n",
    "    text = word_tokenize(text)\n",
    "    new_text = []\n",
    "    \n",
    "    for word in text:\n",
    "        if word not in stop_words and word not in punctuations:\n",
    "            new_text.append(word)\n",
    "            \n",
    "    y = []\n",
    "    for word in new_text:\n",
    "        y.append(ps.stem(word))\n",
    "    return \" \".join(y)"
   ]
  },
  {
   "cell_type": "code",
   "execution_count": 88,
   "id": "43d007b9",
   "metadata": {},
   "outputs": [],
   "source": [
    "df['overview'] = df['overview'].apply(text_preprocessing)"
   ]
  },
  {
   "cell_type": "code",
   "execution_count": 89,
   "id": "030909f2",
   "metadata": {},
   "outputs": [],
   "source": [
    "# remove spaces between names because we are going to vectorize the text \n",
    "# if we won't remove spaces then chris of chris hemsworth and chris of chris evans will be taken as same words\n",
    "def remove_space(obj):\n",
    "    name = []\n",
    "    for i in obj:\n",
    "        name.append(i.replace(\" \",\"\"))\n",
    "    return \" \".join(name)"
   ]
  },
  {
   "cell_type": "code",
   "execution_count": 90,
   "id": "0e942683",
   "metadata": {},
   "outputs": [],
   "source": [
    "df['genre'] = df['genre'].apply(remove_space)\n",
    "df['cast'] = df['cast'].apply(remove_space)\n",
    "df['crew'] = df['crew'].apply(remove_space)\n",
    "df['keywords'] = df['keywords'].apply(remove_space)"
   ]
  },
  {
   "cell_type": "code",
   "execution_count": 91,
   "id": "b0a9dfcd",
   "metadata": {},
   "outputs": [],
   "source": [
    "# create a new column consisting of only words\n",
    "df['tags'] = df['overview'] + df['genre'] + df['cast'] + df['crew'] + df['keywords']"
   ]
  },
  {
   "cell_type": "code",
   "execution_count": 92,
   "id": "e733d8db",
   "metadata": {},
   "outputs": [
    {
     "data": {
      "text/html": [
       "<div>\n",
       "<style scoped>\n",
       "    .dataframe tbody tr th:only-of-type {\n",
       "        vertical-align: middle;\n",
       "    }\n",
       "\n",
       "    .dataframe tbody tr th {\n",
       "        vertical-align: top;\n",
       "    }\n",
       "\n",
       "    .dataframe thead th {\n",
       "        text-align: right;\n",
       "    }\n",
       "</style>\n",
       "<table border=\"1\" class=\"dataframe\">\n",
       "  <thead>\n",
       "    <tr style=\"text-align: right;\">\n",
       "      <th></th>\n",
       "      <th>id</th>\n",
       "      <th>title</th>\n",
       "      <th>overview</th>\n",
       "      <th>genre</th>\n",
       "      <th>cast</th>\n",
       "      <th>crew</th>\n",
       "      <th>keywords</th>\n",
       "      <th>image_url</th>\n",
       "      <th>tags</th>\n",
       "    </tr>\n",
       "  </thead>\n",
       "  <tbody>\n",
       "    <tr>\n",
       "      <th>0</th>\n",
       "      <td>762509</td>\n",
       "      <td>Mufasa: The Lion King</td>\n",
       "      <td>mufasa cub lost alon meet sympathet lion name ...</td>\n",
       "      <td>Adventure Family Animation</td>\n",
       "      <td>AaronPierre KelvinHarrisonJr. TiffanyBoone Kag...</td>\n",
       "      <td>BarryJenkins</td>\n",
       "      <td>friendship paradise lion musical prequel jungl...</td>\n",
       "      <td>http://image.tmdb.org/t/p/w500/9bXHaLlsFYpJUut...</td>\n",
       "      <td>mufasa cub lost alon meet sympathet lion name ...</td>\n",
       "    </tr>\n",
       "    <tr>\n",
       "      <th>1</th>\n",
       "      <td>1241982</td>\n",
       "      <td>Moana 2</td>\n",
       "      <td>receiv unexpect call wayfind ancestor moana jo...</td>\n",
       "      <td>Animation Adventure Family Comedy</td>\n",
       "      <td>AuliʻiCravalho DwayneJohnson HualālaiChung Ros...</td>\n",
       "      <td>DavidG.DerrickJr. JasonHand DanaLedouxMiller</td>\n",
       "      <td>sea ocean villain musical sequel duringcredits...</td>\n",
       "      <td>http://image.tmdb.org/t/p/w500/aLVkiINlIeCkcZI...</td>\n",
       "      <td>receiv unexpect call wayfind ancestor moana jo...</td>\n",
       "    </tr>\n",
       "    <tr>\n",
       "      <th>2</th>\n",
       "      <td>939243</td>\n",
       "      <td>Sonic the Hedgehog 3</td>\n",
       "      <td>sonic knuckl tail reunit power new adversari s...</td>\n",
       "      <td>Action ScienceFiction Comedy Family</td>\n",
       "      <td>JimCarrey BenSchwartz KeanuReeves IdrisElba Co...</td>\n",
       "      <td>JeffFowler</td>\n",
       "      <td>moon sequel basedonvideogame burlesque dualrol...</td>\n",
       "      <td>http://image.tmdb.org/t/p/w500/d8Ryb8AunYAuycV...</td>\n",
       "      <td>sonic knuckl tail reunit power new adversari s...</td>\n",
       "    </tr>\n",
       "    <tr>\n",
       "      <th>3</th>\n",
       "      <td>927342</td>\n",
       "      <td>Amaran</td>\n",
       "      <td>heroic true stori major mukund varadarajan ind...</td>\n",
       "      <td>Action Drama Adventure War</td>\n",
       "      <td>Sivakarthikeyan SaiPallavi RahulBose BhuvanAro...</td>\n",
       "      <td>RajkumarPeriasamy</td>\n",
       "      <td>basedonnovelorbook affectation basedontruestor...</td>\n",
       "      <td>http://image.tmdb.org/t/p/w500/gnsLzt6RdI4QINt...</td>\n",
       "      <td>heroic true stori major mukund varadarajan ind...</td>\n",
       "    </tr>\n",
       "    <tr>\n",
       "      <th>4</th>\n",
       "      <td>822119</td>\n",
       "      <td>Captain America: Brave New World</td>\n",
       "      <td>meet newli elect u.s. presid thaddeu ross sam ...</td>\n",
       "      <td>Action Thriller ScienceFiction</td>\n",
       "      <td>AnthonyMackie HarrisonFord DannyRamirez ShiraH...</td>\n",
       "      <td>JuliusOnah</td>\n",
       "      <td>hero superhero revenge aftercreditsstinger mar...</td>\n",
       "      <td>http://image.tmdb.org/t/p/w500/pzIddUEMWhWzfvL...</td>\n",
       "      <td>meet newli elect u.s. presid thaddeu ross sam ...</td>\n",
       "    </tr>\n",
       "  </tbody>\n",
       "</table>\n",
       "</div>"
      ],
      "text/plain": [
       "        id                             title  \\\n",
       "0   762509             Mufasa: The Lion King   \n",
       "1  1241982                           Moana 2   \n",
       "2   939243              Sonic the Hedgehog 3   \n",
       "3   927342                            Amaran   \n",
       "4   822119  Captain America: Brave New World   \n",
       "\n",
       "                                            overview  \\\n",
       "0  mufasa cub lost alon meet sympathet lion name ...   \n",
       "1  receiv unexpect call wayfind ancestor moana jo...   \n",
       "2  sonic knuckl tail reunit power new adversari s...   \n",
       "3  heroic true stori major mukund varadarajan ind...   \n",
       "4  meet newli elect u.s. presid thaddeu ross sam ...   \n",
       "\n",
       "                                 genre  \\\n",
       "0           Adventure Family Animation   \n",
       "1    Animation Adventure Family Comedy   \n",
       "2  Action ScienceFiction Comedy Family   \n",
       "3           Action Drama Adventure War   \n",
       "4       Action Thriller ScienceFiction   \n",
       "\n",
       "                                                cast  \\\n",
       "0  AaronPierre KelvinHarrisonJr. TiffanyBoone Kag...   \n",
       "1  AuliʻiCravalho DwayneJohnson HualālaiChung Ros...   \n",
       "2  JimCarrey BenSchwartz KeanuReeves IdrisElba Co...   \n",
       "3  Sivakarthikeyan SaiPallavi RahulBose BhuvanAro...   \n",
       "4  AnthonyMackie HarrisonFord DannyRamirez ShiraH...   \n",
       "\n",
       "                                           crew  \\\n",
       "0                                  BarryJenkins   \n",
       "1  DavidG.DerrickJr. JasonHand DanaLedouxMiller   \n",
       "2                                    JeffFowler   \n",
       "3                             RajkumarPeriasamy   \n",
       "4                                    JuliusOnah   \n",
       "\n",
       "                                            keywords  \\\n",
       "0  friendship paradise lion musical prequel jungl...   \n",
       "1  sea ocean villain musical sequel duringcredits...   \n",
       "2  moon sequel basedonvideogame burlesque dualrol...   \n",
       "3  basedonnovelorbook affectation basedontruestor...   \n",
       "4  hero superhero revenge aftercreditsstinger mar...   \n",
       "\n",
       "                                           image_url  \\\n",
       "0  http://image.tmdb.org/t/p/w500/9bXHaLlsFYpJUut...   \n",
       "1  http://image.tmdb.org/t/p/w500/aLVkiINlIeCkcZI...   \n",
       "2  http://image.tmdb.org/t/p/w500/d8Ryb8AunYAuycV...   \n",
       "3  http://image.tmdb.org/t/p/w500/gnsLzt6RdI4QINt...   \n",
       "4  http://image.tmdb.org/t/p/w500/pzIddUEMWhWzfvL...   \n",
       "\n",
       "                                                tags  \n",
       "0  mufasa cub lost alon meet sympathet lion name ...  \n",
       "1  receiv unexpect call wayfind ancestor moana jo...  \n",
       "2  sonic knuckl tail reunit power new adversari s...  \n",
       "3  heroic true stori major mukund varadarajan ind...  \n",
       "4  meet newli elect u.s. presid thaddeu ross sam ...  "
      ]
     },
     "execution_count": 92,
     "metadata": {},
     "output_type": "execute_result"
    }
   ],
   "source": [
    "df.head()"
   ]
  },
  {
   "cell_type": "code",
   "execution_count": 93,
   "id": "1877dbd5",
   "metadata": {},
   "outputs": [],
   "source": [
    "df2 = df.copy()\n",
    "df2 = df2[['id','title','tags','image_url']]"
   ]
  },
  {
   "cell_type": "code",
   "execution_count": 94,
   "id": "1922f994",
   "metadata": {},
   "outputs": [
    {
     "data": {
      "text/html": [
       "<div>\n",
       "<style scoped>\n",
       "    .dataframe tbody tr th:only-of-type {\n",
       "        vertical-align: middle;\n",
       "    }\n",
       "\n",
       "    .dataframe tbody tr th {\n",
       "        vertical-align: top;\n",
       "    }\n",
       "\n",
       "    .dataframe thead th {\n",
       "        text-align: right;\n",
       "    }\n",
       "</style>\n",
       "<table border=\"1\" class=\"dataframe\">\n",
       "  <thead>\n",
       "    <tr style=\"text-align: right;\">\n",
       "      <th></th>\n",
       "      <th>id</th>\n",
       "      <th>title</th>\n",
       "      <th>tags</th>\n",
       "      <th>image_url</th>\n",
       "    </tr>\n",
       "  </thead>\n",
       "  <tbody>\n",
       "    <tr>\n",
       "      <th>0</th>\n",
       "      <td>762509</td>\n",
       "      <td>Mufasa: The Lion King</td>\n",
       "      <td>mufasa cub lost alon meet sympathet lion name ...</td>\n",
       "      <td>http://image.tmdb.org/t/p/w500/9bXHaLlsFYpJUut...</td>\n",
       "    </tr>\n",
       "    <tr>\n",
       "      <th>1</th>\n",
       "      <td>1241982</td>\n",
       "      <td>Moana 2</td>\n",
       "      <td>receiv unexpect call wayfind ancestor moana jo...</td>\n",
       "      <td>http://image.tmdb.org/t/p/w500/aLVkiINlIeCkcZI...</td>\n",
       "    </tr>\n",
       "    <tr>\n",
       "      <th>2</th>\n",
       "      <td>939243</td>\n",
       "      <td>Sonic the Hedgehog 3</td>\n",
       "      <td>sonic knuckl tail reunit power new adversari s...</td>\n",
       "      <td>http://image.tmdb.org/t/p/w500/d8Ryb8AunYAuycV...</td>\n",
       "    </tr>\n",
       "    <tr>\n",
       "      <th>3</th>\n",
       "      <td>927342</td>\n",
       "      <td>Amaran</td>\n",
       "      <td>heroic true stori major mukund varadarajan ind...</td>\n",
       "      <td>http://image.tmdb.org/t/p/w500/gnsLzt6RdI4QINt...</td>\n",
       "    </tr>\n",
       "    <tr>\n",
       "      <th>4</th>\n",
       "      <td>822119</td>\n",
       "      <td>Captain America: Brave New World</td>\n",
       "      <td>meet newli elect u.s. presid thaddeu ross sam ...</td>\n",
       "      <td>http://image.tmdb.org/t/p/w500/pzIddUEMWhWzfvL...</td>\n",
       "    </tr>\n",
       "  </tbody>\n",
       "</table>\n",
       "</div>"
      ],
      "text/plain": [
       "        id                             title  \\\n",
       "0   762509             Mufasa: The Lion King   \n",
       "1  1241982                           Moana 2   \n",
       "2   939243              Sonic the Hedgehog 3   \n",
       "3   927342                            Amaran   \n",
       "4   822119  Captain America: Brave New World   \n",
       "\n",
       "                                                tags  \\\n",
       "0  mufasa cub lost alon meet sympathet lion name ...   \n",
       "1  receiv unexpect call wayfind ancestor moana jo...   \n",
       "2  sonic knuckl tail reunit power new adversari s...   \n",
       "3  heroic true stori major mukund varadarajan ind...   \n",
       "4  meet newli elect u.s. presid thaddeu ross sam ...   \n",
       "\n",
       "                                           image_url  \n",
       "0  http://image.tmdb.org/t/p/w500/9bXHaLlsFYpJUut...  \n",
       "1  http://image.tmdb.org/t/p/w500/aLVkiINlIeCkcZI...  \n",
       "2  http://image.tmdb.org/t/p/w500/d8Ryb8AunYAuycV...  \n",
       "3  http://image.tmdb.org/t/p/w500/gnsLzt6RdI4QINt...  \n",
       "4  http://image.tmdb.org/t/p/w500/pzIddUEMWhWzfvL...  "
      ]
     },
     "execution_count": 94,
     "metadata": {},
     "output_type": "execute_result"
    }
   ],
   "source": [
    "df2.head()"
   ]
  },
  {
   "cell_type": "code",
   "execution_count": 95,
   "id": "4a013165",
   "metadata": {},
   "outputs": [],
   "source": [
    "# dropping duplicates changed the index hence reset it\n",
    "df2.reset_index(inplace = True)"
   ]
  },
  {
   "cell_type": "markdown",
   "id": "a304dc70",
   "metadata": {},
   "source": [
    "# Text Vectorization"
   ]
  },
  {
   "cell_type": "code",
   "execution_count": 96,
   "id": "984ca3ff",
   "metadata": {},
   "outputs": [],
   "source": [
    "cv = CountVectorizer(ngram_range = (1,3), max_features = 10000)\n",
    "tfidf = TfidfVectorizer(ngram_range = (1,3), max_features = 10000)\n",
    "\n",
    "tags_cv = cv.fit_transform(df2['tags']).toarray()\n",
    "tags_tfidf = tfidf.fit_transform(df2['tags']).toarray()"
   ]
  },
  {
   "cell_type": "code",
   "execution_count": 97,
   "id": "b26fe73b",
   "metadata": {},
   "outputs": [
    {
     "data": {
      "text/plain": [
       "((7780, 10000), (7780, 10000))"
      ]
     },
     "execution_count": 97,
     "metadata": {},
     "output_type": "execute_result"
    }
   ],
   "source": [
    "tags_cv.shape, tags_tfidf.shape"
   ]
  },
  {
   "cell_type": "code",
   "execution_count": 98,
   "id": "3adac834",
   "metadata": {},
   "outputs": [],
   "source": [
    "similarity_cv = cosine_similarity(tags_cv)\n",
    "similarity_tfidf = cosine_similarity(tags_tfidf)"
   ]
  },
  {
   "cell_type": "code",
   "execution_count": 99,
   "id": "46bd0075",
   "metadata": {},
   "outputs": [],
   "source": [
    "def recommend_cv(name):\n",
    "    movie_index = df2[df2['title'] == name].index[0]\n",
    "    recommend_movie = sorted(enumerate(similarity_cv[movie_index]),key = (lambda x: x[1]), reverse = True)[:6]\n",
    "    for i in recommend_movie:\n",
    "        print(df2['title'].iloc[i[0]])\n",
    "        print(df2['image_url'].iloc[i[0]])\n",
    "        \n",
    "def recommend_tfidf(name):\n",
    "    movie_index = df2[df2['title'] == name].index[0]\n",
    "    recommend_movie = sorted(enumerate(similarity_cv[movie_index]),key = (lambda x: x[1]), reverse = True)[1:6]\n",
    "    for i in recommend_movie:\n",
    "        print(df2['title'].iloc[i[0]])\n",
    "        print(df2['image_url'].iloc[i[0]])\n",
    "        "
   ]
  },
  {
   "cell_type": "code",
   "execution_count": 100,
   "id": "cb015ae8",
   "metadata": {
    "scrolled": false
   },
   "outputs": [
    {
     "name": "stdout",
     "output_type": "stream",
     "text": [
      "Harry Potter and the Philosopher's Stone\n",
      "http://image.tmdb.org/t/p/w500/wuMc08IPKEatf9rnMNXvIDxqP4W.jpg\n",
      "Harry Potter and the Prisoner of Azkaban\n",
      "http://image.tmdb.org/t/p/w500/aWxwnYoe8p2d2fcxOqtvAtJ72Rw.jpg\n",
      "Harry Potter and the Goblet of Fire\n",
      "http://image.tmdb.org/t/p/w500/fECBtHlr0RB3foNHDiCBXeg9Bv9.jpg\n",
      "Harry Potter and the Deathly Hallows: Part 2\n",
      "http://image.tmdb.org/t/p/w500/c54HpQmuwXjHq2C9wmoACjxoom3.jpg\n",
      "Harry Potter and the Half-Blood Prince\n",
      "http://image.tmdb.org/t/p/w500/z7uo9zmQdQwU5ZJHFpv2Upl30i1.jpg\n",
      "Harry Potter and the Chamber of Secrets\n",
      "http://image.tmdb.org/t/p/w500/sdEOH0992YZ0QSxgXNIGLq1ToUi.jpg\n"
     ]
    }
   ],
   "source": [
    "recommend_cv('Harry Potter and the Philosopher\\'s Stone')"
   ]
  },
  {
   "cell_type": "code",
   "execution_count": 101,
   "id": "1fa90ada",
   "metadata": {
    "scrolled": true
   },
   "outputs": [
    {
     "name": "stdout",
     "output_type": "stream",
     "text": [
      "Harry Potter and the Prisoner of Azkaban\n",
      "http://image.tmdb.org/t/p/w500/aWxwnYoe8p2d2fcxOqtvAtJ72Rw.jpg\n",
      "Harry Potter and the Goblet of Fire\n",
      "http://image.tmdb.org/t/p/w500/fECBtHlr0RB3foNHDiCBXeg9Bv9.jpg\n",
      "Harry Potter and the Deathly Hallows: Part 2\n",
      "http://image.tmdb.org/t/p/w500/c54HpQmuwXjHq2C9wmoACjxoom3.jpg\n",
      "Harry Potter and the Half-Blood Prince\n",
      "http://image.tmdb.org/t/p/w500/z7uo9zmQdQwU5ZJHFpv2Upl30i1.jpg\n",
      "Harry Potter and the Chamber of Secrets\n",
      "http://image.tmdb.org/t/p/w500/sdEOH0992YZ0QSxgXNIGLq1ToUi.jpg\n"
     ]
    }
   ],
   "source": [
    "recommend_tfidf('Harry Potter and the Philosopher\\'s Stone')"
   ]
  },
  {
   "cell_type": "code",
   "execution_count": 102,
   "id": "a325eeed",
   "metadata": {
    "scrolled": true
   },
   "outputs": [
    {
     "name": "stdout",
     "output_type": "stream",
     "text": [
      "Avengers: Endgame\n",
      "http://image.tmdb.org/t/p/w500/ulzhLuWrPK07P1YkdWQLZnQh1JL.jpg\n",
      "Avengers: Secret Wars\n",
      "http://image.tmdb.org/t/p/w500/f0YBuh4hyiAheXhh4JnJWoKi9g5.jpg\n",
      "Avengers: Doomsday\n",
      "http://image.tmdb.org/t/p/w500/eO6OdA4RDRWeCVlDMcsoxWYFySD.jpg\n",
      "Avengers: Age of Ultron\n",
      "http://image.tmdb.org/t/p/w500/4ssDuvEDkSArWEdyBl2X5EHvYKU.jpg\n",
      "The Avengers\n",
      "http://image.tmdb.org/t/p/w500/RYMX2wcKCBAr24UyPD7xwmjaTn.jpg\n",
      "Avengers: Infinity War\n",
      "http://image.tmdb.org/t/p/w500/7WsyChQLEftFiDOVTGkv3hFpyyt.jpg\n"
     ]
    }
   ],
   "source": [
    "recommend_cv('Avengers: Endgame')"
   ]
  },
  {
   "cell_type": "code",
   "execution_count": 103,
   "id": "75b8fdde",
   "metadata": {},
   "outputs": [],
   "source": [
    "df2.drop(columns = 'index', inplace = True)\n",
    "\n",
    "# both CountVectorizer and TfidfVectorizer gave same result so we only export cv\n",
    "pickle.dump(similarity_cv,open('similarity.pkl','wb'))\n",
    "\n",
    "# export df2\n",
    "pickle.dump(df2,open('Movies Dataset.pkl','wb'))\n",
    "\n",
    "# The exported Movies Dataset and similarity will be used by streamlit"
   ]
  },
  {
   "cell_type": "code",
   "execution_count": null,
   "id": "74c85220",
   "metadata": {},
   "outputs": [],
   "source": []
  },
  {
   "cell_type": "code",
   "execution_count": null,
   "id": "a3a42644",
   "metadata": {},
   "outputs": [],
   "source": []
  }
 ],
 "metadata": {
  "kernelspec": {
   "display_name": "Python 3 (ipykernel)",
   "language": "python",
   "name": "python3"
  },
  "language_info": {
   "codemirror_mode": {
    "name": "ipython",
    "version": 3
   },
   "file_extension": ".py",
   "mimetype": "text/x-python",
   "name": "python",
   "nbconvert_exporter": "python",
   "pygments_lexer": "ipython3",
   "version": "3.11.5"
  }
 },
 "nbformat": 4,
 "nbformat_minor": 5
}
