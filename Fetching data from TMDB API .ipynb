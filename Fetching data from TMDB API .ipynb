{
 "cells": [
  {
   "cell_type": "code",
   "execution_count": 1,
   "id": "381beaa6",
   "metadata": {},
   "outputs": [
    {
     "data": {
      "text/plain": [
       "'\\nAll the data are fetched from tmdb api, TMDB is same as IMDB and the database has both movies and tv series.\\nFor this project i have fetched 10K most popular movies available on TMDB database. TMDB has a page limit of 500 hence only 10K\\ndata was extracted.\\nThe fetched data was converted to dataframe and exported into csv files that are to be used for building the project.\\n'"
      ]
     },
     "execution_count": 1,
     "metadata": {},
     "output_type": "execute_result"
    }
   ],
   "source": [
    "'''\n",
    "All the data are fetched from tmdb api, TMDB is same as IMDB and the database has both movies and tv series.\n",
    "For this project i have fetched 10K most popular movies available on TMDB database. TMDB has a page limit of 500 hence only 10K\n",
    "data was extracted.\n",
    "The fetched data was converted to dataframe and exported into csv files that are to be used for building the project.\n",
    "'''  \n"
   ]
  },
  {
   "cell_type": "code",
   "execution_count": 2,
   "id": "dc2aa39f",
   "metadata": {},
   "outputs": [],
   "source": [
    "import requests\n",
    "import pandas as pd"
   ]
  },
  {
   "cell_type": "markdown",
   "id": "25f387ca",
   "metadata": {},
   "source": [
    "# Popular Movies"
   ]
  },
  {
   "cell_type": "code",
   "execution_count": 3,
   "id": "feaea563",
   "metadata": {},
   "outputs": [],
   "source": [
    "api_key = 'ca429b00e545815aa26d6439d0e39f12'"
   ]
  },
  {
   "cell_type": "code",
   "execution_count": 4,
   "id": "12250cba",
   "metadata": {},
   "outputs": [
    {
     "data": {
      "text/plain": [
       "(10000, 14)"
      ]
     },
     "execution_count": 4,
     "metadata": {},
     "output_type": "execute_result"
    }
   ],
   "source": [
    "movies = pd.DataFrame()\n",
    "for i in range(1,501):\n",
    "    url = \"https://api.themoviedb.org/3/movie/popular?api_key={}&language=en-US&page={}\".format(api_key,i)\n",
    "\n",
    "    response = requests.get(url)\n",
    "\n",
    "    response = response.json()\n",
    "    movies = pd.concat([movies,pd.DataFrame(response['results'])])\n",
    "\n",
    "movies.shape"
   ]
  },
  {
   "cell_type": "code",
   "execution_count": 5,
   "id": "c71cbab5",
   "metadata": {},
   "outputs": [
    {
     "data": {
      "text/html": [
       "<div>\n",
       "<style scoped>\n",
       "    .dataframe tbody tr th:only-of-type {\n",
       "        vertical-align: middle;\n",
       "    }\n",
       "\n",
       "    .dataframe tbody tr th {\n",
       "        vertical-align: top;\n",
       "    }\n",
       "\n",
       "    .dataframe thead th {\n",
       "        text-align: right;\n",
       "    }\n",
       "</style>\n",
       "<table border=\"1\" class=\"dataframe\">\n",
       "  <thead>\n",
       "    <tr style=\"text-align: right;\">\n",
       "      <th></th>\n",
       "      <th>adult</th>\n",
       "      <th>backdrop_path</th>\n",
       "      <th>genre_ids</th>\n",
       "      <th>id</th>\n",
       "      <th>original_language</th>\n",
       "      <th>original_title</th>\n",
       "      <th>overview</th>\n",
       "      <th>popularity</th>\n",
       "      <th>poster_path</th>\n",
       "      <th>release_date</th>\n",
       "      <th>title</th>\n",
       "      <th>video</th>\n",
       "      <th>vote_average</th>\n",
       "      <th>vote_count</th>\n",
       "    </tr>\n",
       "  </thead>\n",
       "  <tbody>\n",
       "    <tr>\n",
       "      <th>0</th>\n",
       "      <td>False</td>\n",
       "      <td>/cVh8Af7a9JMOJl75ML3Dg2QVEuq.jpg</td>\n",
       "      <td>[12, 10751, 16]</td>\n",
       "      <td>762509</td>\n",
       "      <td>en</td>\n",
       "      <td>Mufasa: The Lion King</td>\n",
       "      <td>Mufasa, a cub lost and alone, meets a sympathe...</td>\n",
       "      <td>3353.171</td>\n",
       "      <td>/9bXHaLlsFYpJUutg4E6WXAjaxDi.jpg</td>\n",
       "      <td>2024-12-18</td>\n",
       "      <td>Mufasa: The Lion King</td>\n",
       "      <td>False</td>\n",
       "      <td>7.462</td>\n",
       "      <td>1178</td>\n",
       "    </tr>\n",
       "    <tr>\n",
       "      <th>1</th>\n",
       "      <td>False</td>\n",
       "      <td>/zo8CIjJ2nfNOevqNajwMRO6Hwka.jpg</td>\n",
       "      <td>[16, 12, 10751, 35]</td>\n",
       "      <td>1241982</td>\n",
       "      <td>en</td>\n",
       "      <td>Moana 2</td>\n",
       "      <td>After receiving an unexpected call from her wa...</td>\n",
       "      <td>2296.395</td>\n",
       "      <td>/aLVkiINlIeCkcZIzb7XHzPYgO6L.jpg</td>\n",
       "      <td>2024-11-21</td>\n",
       "      <td>Moana 2</td>\n",
       "      <td>False</td>\n",
       "      <td>7.200</td>\n",
       "      <td>1605</td>\n",
       "    </tr>\n",
       "  </tbody>\n",
       "</table>\n",
       "</div>"
      ],
      "text/plain": [
       "   adult                     backdrop_path            genre_ids       id  \\\n",
       "0  False  /cVh8Af7a9JMOJl75ML3Dg2QVEuq.jpg      [12, 10751, 16]   762509   \n",
       "1  False  /zo8CIjJ2nfNOevqNajwMRO6Hwka.jpg  [16, 12, 10751, 35]  1241982   \n",
       "\n",
       "  original_language         original_title  \\\n",
       "0                en  Mufasa: The Lion King   \n",
       "1                en                Moana 2   \n",
       "\n",
       "                                            overview  popularity  \\\n",
       "0  Mufasa, a cub lost and alone, meets a sympathe...    3353.171   \n",
       "1  After receiving an unexpected call from her wa...    2296.395   \n",
       "\n",
       "                        poster_path release_date                  title  \\\n",
       "0  /9bXHaLlsFYpJUutg4E6WXAjaxDi.jpg   2024-12-18  Mufasa: The Lion King   \n",
       "1  /aLVkiINlIeCkcZIzb7XHzPYgO6L.jpg   2024-11-21                Moana 2   \n",
       "\n",
       "   video  vote_average  vote_count  \n",
       "0  False         7.462        1178  \n",
       "1  False         7.200        1605  "
      ]
     },
     "execution_count": 5,
     "metadata": {},
     "output_type": "execute_result"
    }
   ],
   "source": [
    "movies.head(2)"
   ]
  },
  {
   "cell_type": "markdown",
   "id": "bac8eec1",
   "metadata": {},
   "source": [
    "Genres"
   ]
  },
  {
   "cell_type": "code",
   "execution_count": 6,
   "id": "68149d5b",
   "metadata": {},
   "outputs": [
    {
     "data": {
      "text/plain": [
       "[{'id': 28, 'name': 'Action'},\n",
       " {'id': 12, 'name': 'Adventure'},\n",
       " {'id': 16, 'name': 'Animation'},\n",
       " {'id': 35, 'name': 'Comedy'},\n",
       " {'id': 80, 'name': 'Crime'},\n",
       " {'id': 99, 'name': 'Documentary'},\n",
       " {'id': 18, 'name': 'Drama'},\n",
       " {'id': 10751, 'name': 'Family'},\n",
       " {'id': 14, 'name': 'Fantasy'},\n",
       " {'id': 36, 'name': 'History'},\n",
       " {'id': 27, 'name': 'Horror'},\n",
       " {'id': 10402, 'name': 'Music'},\n",
       " {'id': 9648, 'name': 'Mystery'},\n",
       " {'id': 10749, 'name': 'Romance'},\n",
       " {'id': 878, 'name': 'Science Fiction'},\n",
       " {'id': 10770, 'name': 'TV Movie'},\n",
       " {'id': 53, 'name': 'Thriller'},\n",
       " {'id': 10752, 'name': 'War'},\n",
       " {'id': 37, 'name': 'Western'}]"
      ]
     },
     "execution_count": 6,
     "metadata": {},
     "output_type": "execute_result"
    }
   ],
   "source": [
    "# in movies dataframe we have genre_id but we need genres hence another response is requested from that returns the id and name \n",
    "# of genre\n",
    "\n",
    "url = 'https://api.themoviedb.org/3/genre/movie/list?api_key={}'.format(api_key)\n",
    "response = requests.get(url).json()['genres']\n",
    "\n",
    "response"
   ]
  },
  {
   "cell_type": "code",
   "execution_count": 7,
   "id": "0830a42c",
   "metadata": {},
   "outputs": [
    {
     "data": {
      "text/plain": [
       "{28: 'Action',\n",
       " 12: 'Adventure',\n",
       " 16: 'Animation',\n",
       " 35: 'Comedy',\n",
       " 80: 'Crime',\n",
       " 99: 'Documentary',\n",
       " 18: 'Drama',\n",
       " 10751: 'Family',\n",
       " 14: 'Fantasy',\n",
       " 36: 'History',\n",
       " 27: 'Horror',\n",
       " 10402: 'Music',\n",
       " 9648: 'Mystery',\n",
       " 10749: 'Romance',\n",
       " 878: 'Science Fiction',\n",
       " 10770: 'TV Movie',\n",
       " 53: 'Thriller',\n",
       " 10752: 'War',\n",
       " 37: 'Western'}"
      ]
     },
     "execution_count": 7,
     "metadata": {},
     "output_type": "execute_result"
    }
   ],
   "source": [
    "genre_dict = {genre['id']:genre['name'] for genre in response}\n",
    "genre_dict"
   ]
  },
  {
   "cell_type": "code",
   "execution_count": 8,
   "id": "38cffe0d",
   "metadata": {},
   "outputs": [],
   "source": [
    "movies['genre'] = movies['genre_ids'].apply(lambda x: [genre_dict[id] for id in x])\n",
    "movies.drop(columns = ['genre_ids'],inplace = True)\n",
    "movies.to_csv('Movies 10k.csv',index = False)"
   ]
  },
  {
   "cell_type": "code",
   "execution_count": null,
   "id": "71ba0fc4",
   "metadata": {},
   "outputs": [],
   "source": []
  },
  {
   "cell_type": "markdown",
   "id": "318dc901",
   "metadata": {},
   "source": [
    "Credit"
   ]
  },
  {
   "cell_type": "code",
   "execution_count": 9,
   "id": "f219311d",
   "metadata": {},
   "outputs": [],
   "source": [
    "# this url gives the crew and cast for the movies"
   ]
  },
  {
   "cell_type": "code",
   "execution_count": 10,
   "id": "1a511a55",
   "metadata": {},
   "outputs": [],
   "source": [
    "id = movies['id'].tolist()"
   ]
  },
  {
   "cell_type": "code",
   "execution_count": 11,
   "id": "a38222de",
   "metadata": {},
   "outputs": [
    {
     "data": {
      "text/plain": [
       "(10000, 3)"
      ]
     },
     "execution_count": 11,
     "metadata": {},
     "output_type": "execute_result"
    }
   ],
   "source": [
    "credit = pd.DataFrame()\n",
    "\n",
    "for i in id:\n",
    "    url = \"https://api.themoviedb.org/3/movie/{}/credits?api_key={}&language=en-US\".format(i,api_key)\n",
    "    response = requests.get(url)\n",
    "    response = response.json()\n",
    "    df = pd.DataFrame().from_dict(response,orient = 'index').T\n",
    "    credit = pd.concat([credit,df])\n",
    "\n",
    "credit.shape"
   ]
  },
  {
   "cell_type": "code",
   "execution_count": 12,
   "id": "ec1f197e",
   "metadata": {},
   "outputs": [],
   "source": [
    "credit.to_csv('Credit 10k.csv',index = False)"
   ]
  },
  {
   "cell_type": "code",
   "execution_count": null,
   "id": "9f88ec15",
   "metadata": {},
   "outputs": [],
   "source": []
  },
  {
   "cell_type": "markdown",
   "id": "7f44e727",
   "metadata": {},
   "source": [
    "Keywords"
   ]
  },
  {
   "cell_type": "code",
   "execution_count": 13,
   "id": "592efc37",
   "metadata": {},
   "outputs": [
    {
     "data": {
      "text/plain": [
       "(10000, 2)"
      ]
     },
     "execution_count": 13,
     "metadata": {},
     "output_type": "execute_result"
    }
   ],
   "source": [
    "# the main keywords of the movie\n",
    "keyword = pd.DataFrame()\n",
    "for i in id:\n",
    "    url = \"https://api.themoviedb.org/3/movie/{}/keywords?api_key={}\".format(i,api_key)\n",
    "    response = requests.get(url)\n",
    "    response = response.json()\n",
    "    keyword = pd.concat([keyword,pd.DataFrame([response])])\n",
    "\n",
    "keyword.shape  "
   ]
  },
  {
   "cell_type": "code",
   "execution_count": 14,
   "id": "06190f3c",
   "metadata": {},
   "outputs": [],
   "source": [
    "keyword.to_csv('Keywords.csv',index = False)"
   ]
  },
  {
   "cell_type": "code",
   "execution_count": null,
   "id": "42de56a5",
   "metadata": {},
   "outputs": [],
   "source": []
  },
  {
   "cell_type": "code",
   "execution_count": null,
   "id": "af691a99",
   "metadata": {},
   "outputs": [],
   "source": []
  },
  {
   "cell_type": "markdown",
   "id": "f89760f2",
   "metadata": {},
   "source": [
    "Poster"
   ]
  },
  {
   "cell_type": "code",
   "execution_count": 16,
   "id": "e6353242",
   "metadata": {
    "scrolled": true
   },
   "outputs": [
    {
     "data": {
      "text/plain": [
       "(9180, 2)"
      ]
     },
     "execution_count": 16,
     "metadata": {},
     "output_type": "execute_result"
    }
   ],
   "source": [
    "# I want to show posters along with the name of recommended movie. first we had to extract the image url and then the poster url\n",
    "# the final url consist of image url, poster size, and poster path\n",
    "\n",
    "configuration = requests.get('https://api.themoviedb.org/3/configuration?api_key={}'.format(api_key))\n",
    "configuration = configuration.json()\n",
    "\n",
    "image_base_url = configuration['images']['base_url']\n",
    "poster_size = 'w500'\n",
    "\n",
    "response = requests.get('https://api.themoviedb.org/3/movie/{}/images?api_key={}&language=en'.format(i,api_key))\n",
    "\n",
    "image =[]\n",
    "for i in id:\n",
    "    response = requests.get('https://api.themoviedb.org/3/movie/{}/images?api_key={}&include_image_language=en%2Cnull?'.format(i,api_key))\n",
    "    if response.json()['posters'] != []:\n",
    "        file_path = response.json()['posters'][0]['file_path']\n",
    "        image_path = image_base_url+poster_size+file_path\n",
    "        image.append([i,image_path])\n",
    "    \n",
    "image_url = pd.DataFrame(image, columns = ['id','image_url'])\n",
    "image_url.shape"
   ]
  },
  {
   "cell_type": "code",
   "execution_count": 17,
   "id": "b1b3e7e5",
   "metadata": {},
   "outputs": [],
   "source": [
    "image_url.to_csv('image_url.csv',index = False)"
   ]
  },
  {
   "cell_type": "code",
   "execution_count": 18,
   "id": "9a6f3033",
   "metadata": {},
   "outputs": [
    {
     "data": {
      "text/plain": [
       "'http://image.tmdb.org/t/p/w500/9bXHaLlsFYpJUutg4E6WXAjaxDi.jpg'"
      ]
     },
     "execution_count": 18,
     "metadata": {},
     "output_type": "execute_result"
    }
   ],
   "source": [
    "image_url['image_url'].iloc[0]"
   ]
  },
  {
   "cell_type": "code",
   "execution_count": 19,
   "id": "12e175dc",
   "metadata": {},
   "outputs": [
    {
     "data": {
      "text/plain": [
       "'http://image.tmdb.org/t/p//w500/tkG0qgMErYsxZ5aHcW7m55yfSIj.jpg'"
      ]
     },
     "execution_count": 19,
     "metadata": {},
     "output_type": "execute_result"
    }
   ],
   "source": [
    "image_base_url + '/w500/tkG0qgMErYsxZ5aHcW7m55yfSIj.jpg'"
   ]
  },
  {
   "cell_type": "code",
   "execution_count": null,
   "id": "237c5cff",
   "metadata": {},
   "outputs": [],
   "source": []
  }
 ],
 "metadata": {
  "kernelspec": {
   "display_name": "Python 3 (ipykernel)",
   "language": "python",
   "name": "python3"
  },
  "language_info": {
   "codemirror_mode": {
    "name": "ipython",
    "version": 3
   },
   "file_extension": ".py",
   "mimetype": "text/x-python",
   "name": "python",
   "nbconvert_exporter": "python",
   "pygments_lexer": "ipython3",
   "version": "3.11.5"
  }
 },
 "nbformat": 4,
 "nbformat_minor": 5
}
